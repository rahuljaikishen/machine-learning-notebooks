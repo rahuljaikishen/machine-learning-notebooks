{
 "cells": [
  {
   "cell_type": "markdown",
   "metadata": {},
   "source": [
    "# Breast cancer prediction using KNN, RandomForest, DecisionTree and SVM algorithms "
   ]
  },
  {
   "cell_type": "markdown",
   "metadata": {},
   "source": [
    "We will work here on a data set taken from Scikit-Learn about the characteristics of malignant and benign breast tumors to prevent the risk of cancer."
   ]
  },
  {
   "cell_type": "markdown",
   "metadata": {},
   "source": [
    "## Preparation of the data set"
   ]
  },
  {
   "cell_type": "code",
   "execution_count": 1,
   "metadata": {
    "ExecuteTime": {
     "end_time": "2022-05-03T19:20:30.295870Z",
     "start_time": "2022-05-03T19:20:27.748934Z"
    }
   },
   "outputs": [],
   "source": [
    "import numpy as np\n",
    "import matplotlib.pyplot as plt\n",
    "import pandas as pd\n",
    "import sklearn "
   ]
  },
  {
   "cell_type": "markdown",
   "metadata": {},
   "source": [
    "**Loading the data set from Scikit-Learn**"
   ]
  },
  {
   "cell_type": "code",
   "execution_count": 2,
   "metadata": {
    "ExecuteTime": {
     "end_time": "2022-05-03T19:20:30.424096Z",
     "start_time": "2022-05-03T19:20:30.299201Z"
    }
   },
   "outputs": [],
   "source": [
    "from sklearn.datasets import load_breast_cancer\n",
    "data_all = load_breast_cancer()"
   ]
  },
  {
   "cell_type": "markdown",
   "metadata": {},
   "source": [
    "**Checking the keys of the dictionary loaded**"
   ]
  },
  {
   "cell_type": "code",
   "execution_count": 3,
   "metadata": {
    "ExecuteTime": {
     "end_time": "2022-05-03T19:20:30.436296Z",
     "start_time": "2022-05-03T19:20:30.426296Z"
    }
   },
   "outputs": [
    {
     "data": {
      "text/plain": [
       "dict_keys(['data', 'target', 'frame', 'target_names', 'DESCR', 'feature_names', 'filename'])"
      ]
     },
     "execution_count": 3,
     "metadata": {},
     "output_type": "execute_result"
    }
   ],
   "source": [
    "data_all.keys()"
   ]
  },
  {
   "cell_type": "markdown",
   "metadata": {},
   "source": [
    "**Getting a description of the data set**"
   ]
  },
  {
   "cell_type": "code",
   "execution_count": 4,
   "metadata": {
    "ExecuteTime": {
     "end_time": "2022-05-03T19:20:30.450560Z",
     "start_time": "2022-05-03T19:20:30.441084Z"
    }
   },
   "outputs": [
    {
     "name": "stdout",
     "output_type": "stream",
     "text": [
      ".. _breast_cancer_dataset:\n",
      "\n",
      "Breast cancer wisconsin (diagnostic) dataset\n",
      "--------------------------------------------\n",
      "\n",
      "**Data Set Characteristics:**\n",
      "\n",
      "    :Number of Instances: 569\n",
      "\n",
      "    :Number of Attributes: 30 numeric, predictive attributes and the class\n",
      "\n",
      "    :Attribute Information:\n",
      "        - radius (mean of distances from center to points on the perimeter)\n",
      "        - texture (standard deviation of gray-scale values)\n",
      "        - perimeter\n",
      "        - area\n",
      "        - smoothness (local variation in radius lengths)\n",
      "        - compactness (perimeter^2 / area - 1.0)\n",
      "        - concavity (severity of concave portions of the contour)\n",
      "        - concave points (number of concave portions of the contour)\n",
      "        - symmetry\n",
      "        - fractal dimension (\"coastline approximation\" - 1)\n",
      "\n",
      "        The mean, standard error, and \"worst\" or largest (mean of the three\n",
      "        worst/largest values) of these features were computed for each image,\n",
      "        resulting in 30 features.  For instance, field 0 is Mean Radius, field\n",
      "        10 is Radius SE, field 20 is Worst Radius.\n",
      "\n",
      "        - class:\n",
      "                - WDBC-Malignant\n",
      "                - WDBC-Benign\n",
      "\n",
      "    :Summary Statistics:\n",
      "\n",
      "    ===================================== ====== ======\n",
      "                                           Min    Max\n",
      "    ===================================== ====== ======\n",
      "    radius (mean):                        6.981  28.11\n",
      "    texture (mean):                       9.71   39.28\n",
      "    perimeter (mean):                     43.79  188.5\n",
      "    area (mean):                          143.5  2501.0\n",
      "    smoothness (mean):                    0.053  0.163\n",
      "    compactness (mean):                   0.019  0.345\n",
      "    concavity (mean):                     0.0    0.427\n",
      "    concave points (mean):                0.0    0.201\n",
      "    symmetry (mean):                      0.106  0.304\n",
      "    fractal dimension (mean):             0.05   0.097\n",
      "    radius (standard error):              0.112  2.873\n",
      "    texture (standard error):             0.36   4.885\n",
      "    perimeter (standard error):           0.757  21.98\n",
      "    area (standard error):                6.802  542.2\n",
      "    smoothness (standard error):          0.002  0.031\n",
      "    compactness (standard error):         0.002  0.135\n",
      "    concavity (standard error):           0.0    0.396\n",
      "    concave points (standard error):      0.0    0.053\n",
      "    symmetry (standard error):            0.008  0.079\n",
      "    fractal dimension (standard error):   0.001  0.03\n",
      "    radius (worst):                       7.93   36.04\n",
      "    texture (worst):                      12.02  49.54\n",
      "    perimeter (worst):                    50.41  251.2\n",
      "    area (worst):                         185.2  4254.0\n",
      "    smoothness (worst):                   0.071  0.223\n",
      "    compactness (worst):                  0.027  1.058\n",
      "    concavity (worst):                    0.0    1.252\n",
      "    concave points (worst):               0.0    0.291\n",
      "    symmetry (worst):                     0.156  0.664\n",
      "    fractal dimension (worst):            0.055  0.208\n",
      "    ===================================== ====== ======\n",
      "\n",
      "    :Missing Attribute Values: None\n",
      "\n",
      "    :Class Distribution: 212 - Malignant, 357 - Benign\n",
      "\n",
      "    :Creator:  Dr. William H. Wolberg, W. Nick Street, Olvi L. Mangasarian\n",
      "\n",
      "    :Donor: Nick Street\n",
      "\n",
      "    :Date: November, 1995\n",
      "\n",
      "This is a copy of UCI ML Breast Cancer Wisconsin (Diagnostic) datasets.\n",
      "https://goo.gl/U2Uwz2\n",
      "\n",
      "Features are computed from a digitized image of a fine needle\n",
      "aspirate (FNA) of a breast mass.  They describe\n",
      "characteristics of the cell nuclei present in the image.\n",
      "\n",
      "Separating plane described above was obtained using\n",
      "Multisurface Method-Tree (MSM-T) [K. P. Bennett, \"Decision Tree\n",
      "Construction Via Linear Programming.\" Proceedings of the 4th\n",
      "Midwest Artificial Intelligence and Cognitive Science Society,\n",
      "pp. 97-101, 1992], a classification method which uses linear\n",
      "programming to construct a decision tree.  Relevant features\n",
      "were selected using an exhaustive search in the space of 1-4\n",
      "features and 1-3 separating planes.\n",
      "\n",
      "The actual linear program used to obtain the separating plane\n",
      "in the 3-dimensional space is that described in:\n",
      "[K. P. Bennett and O. L. Mangasarian: \"Robust Linear\n",
      "Programming Discrimination of Two Linearly Inseparable Sets\",\n",
      "Optimization Methods and Software 1, 1992, 23-34].\n",
      "\n",
      "This database is also available through the UW CS ftp server:\n",
      "\n",
      "ftp ftp.cs.wisc.edu\n",
      "cd math-prog/cpo-dataset/machine-learn/WDBC/\n",
      "\n",
      ".. topic:: References\n",
      "\n",
      "   - W.N. Street, W.H. Wolberg and O.L. Mangasarian. Nuclear feature extraction \n",
      "     for breast tumor diagnosis. IS&T/SPIE 1993 International Symposium on \n",
      "     Electronic Imaging: Science and Technology, volume 1905, pages 861-870,\n",
      "     San Jose, CA, 1993.\n",
      "   - O.L. Mangasarian, W.N. Street and W.H. Wolberg. Breast cancer diagnosis and \n",
      "     prognosis via linear programming. Operations Research, 43(4), pages 570-577, \n",
      "     July-August 1995.\n",
      "   - W.H. Wolberg, W.N. Street, and O.L. Mangasarian. Machine learning techniques\n",
      "     to diagnose breast cancer from fine-needle aspirates. Cancer Letters 77 (1994) \n",
      "     163-171.\n"
     ]
    }
   ],
   "source": [
    "print(data_all.DESCR)"
   ]
  },
  {
   "cell_type": "markdown",
   "metadata": {},
   "source": [
    "**Preparing the data frame of all features**"
   ]
  },
  {
   "cell_type": "code",
   "execution_count": 5,
   "metadata": {
    "ExecuteTime": {
     "end_time": "2022-05-03T19:20:30.463231Z",
     "start_time": "2022-05-03T19:20:30.453938Z"
    }
   },
   "outputs": [
    {
     "data": {
      "text/plain": [
       "array(['mean radius', 'mean texture', 'mean perimeter', 'mean area',\n",
       "       'mean smoothness', 'mean compactness', 'mean concavity',\n",
       "       'mean concave points', 'mean symmetry', 'mean fractal dimension',\n",
       "       'radius error', 'texture error', 'perimeter error', 'area error',\n",
       "       'smoothness error', 'compactness error', 'concavity error',\n",
       "       'concave points error', 'symmetry error',\n",
       "       'fractal dimension error', 'worst radius', 'worst texture',\n",
       "       'worst perimeter', 'worst area', 'worst smoothness',\n",
       "       'worst compactness', 'worst concavity', 'worst concave points',\n",
       "       'worst symmetry', 'worst fractal dimension'], dtype='<U23')"
      ]
     },
     "execution_count": 5,
     "metadata": {},
     "output_type": "execute_result"
    }
   ],
   "source": [
    "data_all.feature_names"
   ]
  },
  {
   "cell_type": "code",
   "execution_count": 6,
   "metadata": {
    "ExecuteTime": {
     "end_time": "2022-05-03T19:20:30.532941Z",
     "start_time": "2022-05-03T19:20:30.466526Z"
    }
   },
   "outputs": [
    {
     "data": {
      "text/html": [
       "<div>\n",
       "<style scoped>\n",
       "    .dataframe tbody tr th:only-of-type {\n",
       "        vertical-align: middle;\n",
       "    }\n",
       "\n",
       "    .dataframe tbody tr th {\n",
       "        vertical-align: top;\n",
       "    }\n",
       "\n",
       "    .dataframe thead th {\n",
       "        text-align: right;\n",
       "    }\n",
       "</style>\n",
       "<table border=\"1\" class=\"dataframe\">\n",
       "  <thead>\n",
       "    <tr style=\"text-align: right;\">\n",
       "      <th></th>\n",
       "      <th>mean radius</th>\n",
       "      <th>mean texture</th>\n",
       "      <th>mean perimeter</th>\n",
       "      <th>mean area</th>\n",
       "      <th>mean smoothness</th>\n",
       "      <th>mean compactness</th>\n",
       "      <th>mean concavity</th>\n",
       "      <th>mean concave points</th>\n",
       "      <th>mean symmetry</th>\n",
       "      <th>mean fractal dimension</th>\n",
       "      <th>...</th>\n",
       "      <th>worst radius</th>\n",
       "      <th>worst texture</th>\n",
       "      <th>worst perimeter</th>\n",
       "      <th>worst area</th>\n",
       "      <th>worst smoothness</th>\n",
       "      <th>worst compactness</th>\n",
       "      <th>worst concavity</th>\n",
       "      <th>worst concave points</th>\n",
       "      <th>worst symmetry</th>\n",
       "      <th>worst fractal dimension</th>\n",
       "    </tr>\n",
       "  </thead>\n",
       "  <tbody>\n",
       "    <tr>\n",
       "      <th>421</th>\n",
       "      <td>14.69</td>\n",
       "      <td>13.98</td>\n",
       "      <td>98.22</td>\n",
       "      <td>656.1</td>\n",
       "      <td>0.10310</td>\n",
       "      <td>0.18360</td>\n",
       "      <td>0.14500</td>\n",
       "      <td>0.06300</td>\n",
       "      <td>0.2086</td>\n",
       "      <td>0.07406</td>\n",
       "      <td>...</td>\n",
       "      <td>16.46</td>\n",
       "      <td>18.34</td>\n",
       "      <td>114.10</td>\n",
       "      <td>809.2</td>\n",
       "      <td>0.13120</td>\n",
       "      <td>0.36350</td>\n",
       "      <td>0.3219</td>\n",
       "      <td>0.11080</td>\n",
       "      <td>0.2827</td>\n",
       "      <td>0.09208</td>\n",
       "    </tr>\n",
       "    <tr>\n",
       "      <th>47</th>\n",
       "      <td>13.17</td>\n",
       "      <td>18.66</td>\n",
       "      <td>85.98</td>\n",
       "      <td>534.6</td>\n",
       "      <td>0.11580</td>\n",
       "      <td>0.12310</td>\n",
       "      <td>0.12260</td>\n",
       "      <td>0.07340</td>\n",
       "      <td>0.2128</td>\n",
       "      <td>0.06777</td>\n",
       "      <td>...</td>\n",
       "      <td>15.67</td>\n",
       "      <td>27.95</td>\n",
       "      <td>102.80</td>\n",
       "      <td>759.4</td>\n",
       "      <td>0.17860</td>\n",
       "      <td>0.41660</td>\n",
       "      <td>0.5006</td>\n",
       "      <td>0.20880</td>\n",
       "      <td>0.3900</td>\n",
       "      <td>0.11790</td>\n",
       "    </tr>\n",
       "    <tr>\n",
       "      <th>292</th>\n",
       "      <td>12.95</td>\n",
       "      <td>16.02</td>\n",
       "      <td>83.14</td>\n",
       "      <td>513.7</td>\n",
       "      <td>0.10050</td>\n",
       "      <td>0.07943</td>\n",
       "      <td>0.06155</td>\n",
       "      <td>0.03370</td>\n",
       "      <td>0.1730</td>\n",
       "      <td>0.06470</td>\n",
       "      <td>...</td>\n",
       "      <td>13.74</td>\n",
       "      <td>19.93</td>\n",
       "      <td>88.81</td>\n",
       "      <td>585.4</td>\n",
       "      <td>0.14830</td>\n",
       "      <td>0.20680</td>\n",
       "      <td>0.2241</td>\n",
       "      <td>0.10560</td>\n",
       "      <td>0.3380</td>\n",
       "      <td>0.09584</td>\n",
       "    </tr>\n",
       "    <tr>\n",
       "      <th>186</th>\n",
       "      <td>18.31</td>\n",
       "      <td>18.58</td>\n",
       "      <td>118.60</td>\n",
       "      <td>1041.0</td>\n",
       "      <td>0.08588</td>\n",
       "      <td>0.08468</td>\n",
       "      <td>0.08169</td>\n",
       "      <td>0.05814</td>\n",
       "      <td>0.1621</td>\n",
       "      <td>0.05425</td>\n",
       "      <td>...</td>\n",
       "      <td>21.31</td>\n",
       "      <td>26.36</td>\n",
       "      <td>139.20</td>\n",
       "      <td>1410.0</td>\n",
       "      <td>0.12340</td>\n",
       "      <td>0.24450</td>\n",
       "      <td>0.3538</td>\n",
       "      <td>0.15710</td>\n",
       "      <td>0.3206</td>\n",
       "      <td>0.06938</td>\n",
       "    </tr>\n",
       "    <tr>\n",
       "      <th>414</th>\n",
       "      <td>15.13</td>\n",
       "      <td>29.81</td>\n",
       "      <td>96.71</td>\n",
       "      <td>719.5</td>\n",
       "      <td>0.08320</td>\n",
       "      <td>0.04605</td>\n",
       "      <td>0.04686</td>\n",
       "      <td>0.02739</td>\n",
       "      <td>0.1852</td>\n",
       "      <td>0.05294</td>\n",
       "      <td>...</td>\n",
       "      <td>17.26</td>\n",
       "      <td>36.91</td>\n",
       "      <td>110.10</td>\n",
       "      <td>931.4</td>\n",
       "      <td>0.11480</td>\n",
       "      <td>0.09866</td>\n",
       "      <td>0.1547</td>\n",
       "      <td>0.06575</td>\n",
       "      <td>0.3233</td>\n",
       "      <td>0.06165</td>\n",
       "    </tr>\n",
       "    <tr>\n",
       "      <th>132</th>\n",
       "      <td>16.16</td>\n",
       "      <td>21.54</td>\n",
       "      <td>106.20</td>\n",
       "      <td>809.8</td>\n",
       "      <td>0.10080</td>\n",
       "      <td>0.12840</td>\n",
       "      <td>0.10430</td>\n",
       "      <td>0.05613</td>\n",
       "      <td>0.2160</td>\n",
       "      <td>0.05891</td>\n",
       "      <td>...</td>\n",
       "      <td>19.47</td>\n",
       "      <td>31.68</td>\n",
       "      <td>129.70</td>\n",
       "      <td>1175.0</td>\n",
       "      <td>0.13950</td>\n",
       "      <td>0.30550</td>\n",
       "      <td>0.2992</td>\n",
       "      <td>0.13120</td>\n",
       "      <td>0.3480</td>\n",
       "      <td>0.07619</td>\n",
       "    </tr>\n",
       "    <tr>\n",
       "      <th>161</th>\n",
       "      <td>19.19</td>\n",
       "      <td>15.94</td>\n",
       "      <td>126.30</td>\n",
       "      <td>1157.0</td>\n",
       "      <td>0.08694</td>\n",
       "      <td>0.11850</td>\n",
       "      <td>0.11930</td>\n",
       "      <td>0.09667</td>\n",
       "      <td>0.1741</td>\n",
       "      <td>0.05176</td>\n",
       "      <td>...</td>\n",
       "      <td>22.03</td>\n",
       "      <td>17.81</td>\n",
       "      <td>146.60</td>\n",
       "      <td>1495.0</td>\n",
       "      <td>0.11240</td>\n",
       "      <td>0.20160</td>\n",
       "      <td>0.2264</td>\n",
       "      <td>0.17770</td>\n",
       "      <td>0.2443</td>\n",
       "      <td>0.06251</td>\n",
       "    </tr>\n",
       "    <tr>\n",
       "      <th>197</th>\n",
       "      <td>18.08</td>\n",
       "      <td>21.84</td>\n",
       "      <td>117.40</td>\n",
       "      <td>1024.0</td>\n",
       "      <td>0.07371</td>\n",
       "      <td>0.08642</td>\n",
       "      <td>0.11030</td>\n",
       "      <td>0.05778</td>\n",
       "      <td>0.1770</td>\n",
       "      <td>0.05340</td>\n",
       "      <td>...</td>\n",
       "      <td>19.76</td>\n",
       "      <td>24.70</td>\n",
       "      <td>129.10</td>\n",
       "      <td>1228.0</td>\n",
       "      <td>0.08822</td>\n",
       "      <td>0.19630</td>\n",
       "      <td>0.2535</td>\n",
       "      <td>0.09181</td>\n",
       "      <td>0.2369</td>\n",
       "      <td>0.06558</td>\n",
       "    </tr>\n",
       "  </tbody>\n",
       "</table>\n",
       "<p>8 rows × 30 columns</p>\n",
       "</div>"
      ],
      "text/plain": [
       "     mean radius  mean texture  mean perimeter  mean area  mean smoothness  \\\n",
       "421        14.69         13.98           98.22      656.1          0.10310   \n",
       "47         13.17         18.66           85.98      534.6          0.11580   \n",
       "292        12.95         16.02           83.14      513.7          0.10050   \n",
       "186        18.31         18.58          118.60     1041.0          0.08588   \n",
       "414        15.13         29.81           96.71      719.5          0.08320   \n",
       "132        16.16         21.54          106.20      809.8          0.10080   \n",
       "161        19.19         15.94          126.30     1157.0          0.08694   \n",
       "197        18.08         21.84          117.40     1024.0          0.07371   \n",
       "\n",
       "     mean compactness  mean concavity  mean concave points  mean symmetry  \\\n",
       "421           0.18360         0.14500              0.06300         0.2086   \n",
       "47            0.12310         0.12260              0.07340         0.2128   \n",
       "292           0.07943         0.06155              0.03370         0.1730   \n",
       "186           0.08468         0.08169              0.05814         0.1621   \n",
       "414           0.04605         0.04686              0.02739         0.1852   \n",
       "132           0.12840         0.10430              0.05613         0.2160   \n",
       "161           0.11850         0.11930              0.09667         0.1741   \n",
       "197           0.08642         0.11030              0.05778         0.1770   \n",
       "\n",
       "     mean fractal dimension  ...  worst radius  worst texture  \\\n",
       "421                 0.07406  ...         16.46          18.34   \n",
       "47                  0.06777  ...         15.67          27.95   \n",
       "292                 0.06470  ...         13.74          19.93   \n",
       "186                 0.05425  ...         21.31          26.36   \n",
       "414                 0.05294  ...         17.26          36.91   \n",
       "132                 0.05891  ...         19.47          31.68   \n",
       "161                 0.05176  ...         22.03          17.81   \n",
       "197                 0.05340  ...         19.76          24.70   \n",
       "\n",
       "     worst perimeter  worst area  worst smoothness  worst compactness  \\\n",
       "421           114.10       809.2           0.13120            0.36350   \n",
       "47            102.80       759.4           0.17860            0.41660   \n",
       "292            88.81       585.4           0.14830            0.20680   \n",
       "186           139.20      1410.0           0.12340            0.24450   \n",
       "414           110.10       931.4           0.11480            0.09866   \n",
       "132           129.70      1175.0           0.13950            0.30550   \n",
       "161           146.60      1495.0           0.11240            0.20160   \n",
       "197           129.10      1228.0           0.08822            0.19630   \n",
       "\n",
       "     worst concavity  worst concave points  worst symmetry  \\\n",
       "421           0.3219               0.11080          0.2827   \n",
       "47            0.5006               0.20880          0.3900   \n",
       "292           0.2241               0.10560          0.3380   \n",
       "186           0.3538               0.15710          0.3206   \n",
       "414           0.1547               0.06575          0.3233   \n",
       "132           0.2992               0.13120          0.3480   \n",
       "161           0.2264               0.17770          0.2443   \n",
       "197           0.2535               0.09181          0.2369   \n",
       "\n",
       "     worst fractal dimension  \n",
       "421                  0.09208  \n",
       "47                   0.11790  \n",
       "292                  0.09584  \n",
       "186                  0.06938  \n",
       "414                  0.06165  \n",
       "132                  0.07619  \n",
       "161                  0.06251  \n",
       "197                  0.06558  \n",
       "\n",
       "[8 rows x 30 columns]"
      ]
     },
     "execution_count": 6,
     "metadata": {},
     "output_type": "execute_result"
    }
   ],
   "source": [
    "features = pd.DataFrame(data=data_all.data, columns=data_all.feature_names)\n",
    "features.sample(n=8, random_state=1)"
   ]
  },
  {
   "cell_type": "markdown",
   "metadata": {},
   "source": [
    "**Preparing the data frame of the target**"
   ]
  },
  {
   "cell_type": "code",
   "execution_count": 7,
   "metadata": {
    "ExecuteTime": {
     "end_time": "2022-05-03T19:20:30.550850Z",
     "start_time": "2022-05-03T19:20:30.535894Z"
    }
   },
   "outputs": [
    {
     "data": {
      "text/html": [
       "<div>\n",
       "<style scoped>\n",
       "    .dataframe tbody tr th:only-of-type {\n",
       "        vertical-align: middle;\n",
       "    }\n",
       "\n",
       "    .dataframe tbody tr th {\n",
       "        vertical-align: top;\n",
       "    }\n",
       "\n",
       "    .dataframe thead th {\n",
       "        text-align: right;\n",
       "    }\n",
       "</style>\n",
       "<table border=\"1\" class=\"dataframe\">\n",
       "  <thead>\n",
       "    <tr style=\"text-align: right;\">\n",
       "      <th></th>\n",
       "      <th>tumor type</th>\n",
       "    </tr>\n",
       "  </thead>\n",
       "  <tbody>\n",
       "    <tr>\n",
       "      <th>421</th>\n",
       "      <td>1</td>\n",
       "    </tr>\n",
       "    <tr>\n",
       "      <th>47</th>\n",
       "      <td>0</td>\n",
       "    </tr>\n",
       "    <tr>\n",
       "      <th>292</th>\n",
       "      <td>1</td>\n",
       "    </tr>\n",
       "    <tr>\n",
       "      <th>186</th>\n",
       "      <td>0</td>\n",
       "    </tr>\n",
       "    <tr>\n",
       "      <th>414</th>\n",
       "      <td>0</td>\n",
       "    </tr>\n",
       "    <tr>\n",
       "      <th>132</th>\n",
       "      <td>0</td>\n",
       "    </tr>\n",
       "    <tr>\n",
       "      <th>161</th>\n",
       "      <td>0</td>\n",
       "    </tr>\n",
       "    <tr>\n",
       "      <th>197</th>\n",
       "      <td>0</td>\n",
       "    </tr>\n",
       "  </tbody>\n",
       "</table>\n",
       "</div>"
      ],
      "text/plain": [
       "     tumor type\n",
       "421           1\n",
       "47            0\n",
       "292           1\n",
       "186           0\n",
       "414           0\n",
       "132           0\n",
       "161           0\n",
       "197           0"
      ]
     },
     "execution_count": 7,
     "metadata": {},
     "output_type": "execute_result"
    }
   ],
   "source": [
    "target = pd.DataFrame(data=data_all.target, columns=['tumor type'])\n",
    "target.sample(n=8, random_state=1)"
   ]
  },
  {
   "cell_type": "markdown",
   "metadata": {},
   "source": [
    "**To make the target encoding more obvious (we want to predict the risk of cancer), we invert the encoding values so that now 0 codes benign and 1 codes malignant**"
   ]
  },
  {
   "cell_type": "code",
   "execution_count": 8,
   "metadata": {
    "ExecuteTime": {
     "end_time": "2022-05-03T19:20:30.567017Z",
     "start_time": "2022-05-03T19:20:30.553902Z"
    }
   },
   "outputs": [
    {
     "data": {
      "text/html": [
       "<div>\n",
       "<style scoped>\n",
       "    .dataframe tbody tr th:only-of-type {\n",
       "        vertical-align: middle;\n",
       "    }\n",
       "\n",
       "    .dataframe tbody tr th {\n",
       "        vertical-align: top;\n",
       "    }\n",
       "\n",
       "    .dataframe thead th {\n",
       "        text-align: right;\n",
       "    }\n",
       "</style>\n",
       "<table border=\"1\" class=\"dataframe\">\n",
       "  <thead>\n",
       "    <tr style=\"text-align: right;\">\n",
       "      <th></th>\n",
       "      <th>tumor type</th>\n",
       "    </tr>\n",
       "  </thead>\n",
       "  <tbody>\n",
       "    <tr>\n",
       "      <th>421</th>\n",
       "      <td>0</td>\n",
       "    </tr>\n",
       "    <tr>\n",
       "      <th>47</th>\n",
       "      <td>1</td>\n",
       "    </tr>\n",
       "    <tr>\n",
       "      <th>292</th>\n",
       "      <td>0</td>\n",
       "    </tr>\n",
       "    <tr>\n",
       "      <th>186</th>\n",
       "      <td>1</td>\n",
       "    </tr>\n",
       "    <tr>\n",
       "      <th>414</th>\n",
       "      <td>1</td>\n",
       "    </tr>\n",
       "    <tr>\n",
       "      <th>132</th>\n",
       "      <td>1</td>\n",
       "    </tr>\n",
       "    <tr>\n",
       "      <th>161</th>\n",
       "      <td>1</td>\n",
       "    </tr>\n",
       "    <tr>\n",
       "      <th>197</th>\n",
       "      <td>1</td>\n",
       "    </tr>\n",
       "  </tbody>\n",
       "</table>\n",
       "</div>"
      ],
      "text/plain": [
       "     tumor type\n",
       "421           0\n",
       "47            1\n",
       "292           0\n",
       "186           1\n",
       "414           1\n",
       "132           1\n",
       "161           1\n",
       "197           1"
      ]
     },
     "execution_count": 8,
     "metadata": {},
     "output_type": "execute_result"
    }
   ],
   "source": [
    "target = target.replace({0:1, 1:0})\n",
    "target.sample(n=8, random_state=1)"
   ]
  },
  {
   "cell_type": "code",
   "execution_count": 9,
   "metadata": {
    "ExecuteTime": {
     "end_time": "2022-05-03T19:20:30.637740Z",
     "start_time": "2022-05-03T19:20:30.570183Z"
    }
   },
   "outputs": [],
   "source": [
    "from matplotlib.colors import ListedColormap\n",
    "from sklearn.metrics import accuracy_score, precision_score, recall_score, f1_score, roc_auc_score\n",
    "\n",
    "def compute_metrics(classifier_data, y_test, score_type='all'):\n",
    "    model_name = classifier_data['classifier'].__class__.__name__\n",
    "    \n",
    "    if score_type == 'recall':\n",
    "        recall = recall_score(y_test, classifier_data['y_pred'])\n",
    "        return recall \n",
    "    else :\n",
    "        accuracy = round(accuracy_score(y_test, classifier_data['y_pred']), 2)\n",
    "        precision = round(precision_score(y_test, classifier_data['y_pred']),2)\n",
    "        recall = round(recall_score(y_test, classifier_data['y_pred']),2)\n",
    "        f1 = round(f1_score(y_test, classifier_data['y_pred']), 2)\n",
    "        auc = round(roc_auc_score(y_test, classifier_data['y_proba_positive']), 2)\n",
    "        return pd.DataFrame({\n",
    "            'Accuracy': accuracy,\n",
    "            'Precision': precision,\n",
    "            'Recall': recall,\n",
    "            'F1 score': f1,\n",
    "            'AUC score': auc\n",
    "        }, index=[model_name])\n",
    "\n",
    "\n",
    "def plot_decision_areas(classifier, X_set, y_set):\n",
    "    \n",
    "    labels = ['Benign','Malignant']\n",
    "    \n",
    "    plt.figure(figsize=(10,6), dpi= 80)\n",
    "    X1, X2 = np.meshgrid(np.arange(start = X_set.iloc[:, 0].min(), stop = X_set.iloc[:, 0].max(), step = 0.1),\n",
    "        np.arange(start = X_set.iloc[:, 1].min(), stop = X_set.iloc[:, 1].max(), step = 0.1))\n",
    "    positions = [(0,0), (0,1), (1,0), (1,1)]\n",
    "\n",
    "    # Loop on classifier \n",
    "    z = classifier['classifier'].predict((np.array([X1.ravel(), X2.ravel()]).T)).reshape(X1.shape)\n",
    "   # print(z.shape)\n",
    "    plt.contourf(X1, X2, z,\n",
    "                 alpha = 0.75, cmap = ListedColormap(('lightgreen', 'salmon')))\n",
    "\n",
    "    for i, j in enumerate(np.unique(y_set)):\n",
    "        plt.scatter(X_set[y_set == j].iloc[:,0], X_set[y_set == j].iloc[:,1], color = ListedColormap(('orange', 'red'))(i), label = labels[j])\n",
    "\n",
    "    plt.xlim(X1.min(), X1.max())\n",
    "    plt.ylim(X2.min(), X2.max())\n",
    "    plt.legend(title='Cancer type (test set)')\n",
    "    plt.title(str(classifier['classifier'].__class__.__name__))\n",
    "    plt.xlabel('Mean radius')\n",
    "    plt.ylabel('Mean texture')\n",
    "\n",
    "    plt.show() \n",
    "\n",
    "def get_predictions(classifier, X_test):\n",
    "    classifier['y_pred'] = classifier['classifier'].predict(X_test)\n",
    "    classifier['y_proba'] = classifier['classifier'].predict_proba(X_test)\n",
    "    classifier['y_proba_positive'] = classifier['y_proba'][:,1]\n",
    "    return classifier\n",
    "    "
   ]
  },
  {
   "cell_type": "code",
   "execution_count": 10,
   "metadata": {
    "ExecuteTime": {
     "end_time": "2022-05-03T19:20:30.648290Z",
     "start_time": "2022-05-03T19:20:30.642890Z"
    }
   },
   "outputs": [],
   "source": [
    "model_list = []"
   ]
  },
  {
   "cell_type": "markdown",
   "metadata": {},
   "source": [
    "<h4>1) kNN with n=5</h4> "
   ]
  },
  {
   "cell_type": "code",
   "execution_count": 11,
   "metadata": {
    "ExecuteTime": {
     "end_time": "2022-05-03T19:20:30.674141Z",
     "start_time": "2022-05-03T19:20:30.651205Z"
    }
   },
   "outputs": [],
   "source": [
    "from sklearn.model_selection import train_test_split\n",
    "\n",
    "X = features[['mean radius', 'mean texture']]\n",
    "y = target['tumor type']\n",
    "X_train, X_test, y_train, y_test = train_test_split(X, y, test_size = 0.25, random_state = 0)"
   ]
  },
  {
   "cell_type": "code",
   "execution_count": 12,
   "metadata": {
    "ExecuteTime": {
     "end_time": "2022-05-03T19:20:30.855615Z",
     "start_time": "2022-05-03T19:20:30.676296Z"
    }
   },
   "outputs": [
    {
     "data": {
      "text/plain": [
       "KNeighborsClassifier(metric='euclidean')"
      ]
     },
     "execution_count": 12,
     "metadata": {},
     "output_type": "execute_result"
    }
   ],
   "source": [
    "from sklearn.neighbors import KNeighborsClassifier\n",
    "\n",
    "knn_5 = {'classifier': KNeighborsClassifier(n_neighbors = 5, metric = 'euclidean')}\n",
    "knn_5['classifier'].fit(X_train, y_train)"
   ]
  },
  {
   "cell_type": "code",
   "execution_count": 13,
   "metadata": {
    "ExecuteTime": {
     "end_time": "2022-05-03T19:20:33.733001Z",
     "start_time": "2022-05-03T19:20:30.858146Z"
    }
   },
   "outputs": [
    {
     "data": {
      "image/png": "[encoded data removed]",
      "text/plain": [
       "<Figure size 800x480 with 1 Axes>"
      ]
     },
     "metadata": {
      "needs_background": "light"
     },
     "output_type": "display_data"
    }
   ],
   "source": [
    "X_set = X_test\n",
    "y_set = y_test\n",
    "plot_decision_areas(knn_5, X_test, y_test)\n",
    "model_list.append(knn_5)"
   ]
  },
  {
   "cell_type": "markdown",
   "metadata": {},
   "source": [
    "<div style=\"height:20px;text-align_center\"><hr/></div>"
   ]
  },
  {
   "cell_type": "markdown",
   "metadata": {},
   "source": [
    "<h4>2) Exploring different values for optimizing k</h4>"
   ]
  },
  {
   "cell_type": "code",
   "execution_count": 14,
   "metadata": {
    "ExecuteTime": {
     "end_time": "2022-05-03T19:20:34.254318Z",
     "start_time": "2022-05-03T19:20:33.736736Z"
    }
   },
   "outputs": [],
   "source": [
    "best_score = 0\n",
    "k=5\n",
    "for i in range(1,50,2):\n",
    "    knn = {'classifier': KNeighborsClassifier(n_neighbors = i, metric = 'euclidean')}\n",
    "    knn['classifier'].fit(X_train, y_train)\n",
    "    knn = get_predictions(knn,X_test)\n",
    "    recall = compute_metrics(knn, y_test, 'recall')\n",
    "    if recall > best_score:\n",
    "        best_score = recall\n",
    "        k = i\n"
   ]
  },
  {
   "cell_type": "code",
   "execution_count": 15,
   "metadata": {
    "ExecuteTime": {
     "end_time": "2022-05-03T19:20:34.266221Z",
     "start_time": "2022-05-03T19:20:34.257633Z"
    }
   },
   "outputs": [
    {
     "name": "stdout",
     "output_type": "stream",
     "text": [
      "kNN with value  23  gives us the best classifier with a recall of  0.87\n"
     ]
    }
   ],
   "source": [
    "print('kNN with value ',k,' gives us the best classifier with a recall of ',round(recall,2))"
   ]
  },
  {
   "cell_type": "markdown",
   "metadata": {},
   "source": [
    "<div style=\"height:20px;text-align_center\"><hr/></div>"
   ]
  },
  {
   "cell_type": "markdown",
   "metadata": {},
   "source": [
    "<h4>3) kNN with n=23</h4>"
   ]
  },
  {
   "cell_type": "code",
   "execution_count": 16,
   "metadata": {
    "ExecuteTime": {
     "end_time": "2022-05-03T19:20:37.241923Z",
     "start_time": "2022-05-03T19:20:34.270022Z"
    }
   },
   "outputs": [
    {
     "data": {
      "image/png": "[encoded data removed]",
      "text/plain": [
       "<Figure size 800x480 with 1 Axes>"
      ]
     },
     "metadata": {
      "needs_background": "light"
     },
     "output_type": "display_data"
    }
   ],
   "source": [
    "knn_23 = {'classifier': KNeighborsClassifier(n_neighbors = 23, metric = 'euclidean')}\n",
    "knn_23['classifier'].fit(X_train, y_train)\n",
    "plot_decision_areas(knn_23, X_test, y_test)\n",
    "model_list.append(knn_23)"
   ]
  },
  {
   "cell_type": "markdown",
   "metadata": {},
   "source": [
    "<div style=\"height:20px;text-align_center\"><hr/></div>"
   ]
  },
  {
   "cell_type": "markdown",
   "metadata": {},
   "source": [
    "<h4>4) Training a decision tree classifier</h4>"
   ]
  },
  {
   "cell_type": "code",
   "execution_count": 17,
   "metadata": {
    "ExecuteTime": {
     "end_time": "2022-05-03T19:20:37.683175Z",
     "start_time": "2022-05-03T19:20:37.244926Z"
    }
   },
   "outputs": [
    {
     "data": {
      "image/png": "[encoded data removed]",
      "text/plain": [
       "<Figure size 800x480 with 1 Axes>"
      ]
     },
     "metadata": {
      "needs_background": "light"
     },
     "output_type": "display_data"
    }
   ],
   "source": [
    "from sklearn.tree import DecisionTreeClassifier\n",
    "dt = {'classifier': DecisionTreeClassifier(criterion = 'entropy', random_state = 0)}\n",
    "dt['classifier'].fit(X_train, y_train)\n",
    "plot_decision_areas(dt, X_test, y_test)\n",
    "model_list.append(dt)"
   ]
  },
  {
   "cell_type": "markdown",
   "metadata": {},
   "source": [
    "<div style=\"height:20px;text-align_center\"><hr/></div>"
   ]
  },
  {
   "cell_type": "markdown",
   "metadata": {},
   "source": [
    "<h4>5) Optimal value for depth of decision tree</h4>"
   ]
  },
  {
   "cell_type": "code",
   "execution_count": 18,
   "metadata": {
    "ExecuteTime": {
     "end_time": "2022-05-03T19:20:37.849966Z",
     "start_time": "2022-05-03T19:20:37.687324Z"
    }
   },
   "outputs": [],
   "source": [
    "best_score = 0\n",
    "max_depth=1\n",
    "for i in range(1,dt['classifier'].tree_.max_depth+1):\n",
    "    dt_check = {'classifier': DecisionTreeClassifier(criterion = 'entropy', random_state = 0, max_depth=i)}\n",
    "    dt_check['classifier'].fit(X_train, y_train)\n",
    "    dt_check = get_predictions(dt_check,X_test)\n",
    "    recall = compute_metrics(dt_check, y_test, 'recall')\n",
    "    if recall > best_score:\n",
    "        best_score = recall\n",
    "        max_depth = i"
   ]
  },
  {
   "cell_type": "code",
   "execution_count": 19,
   "metadata": {
    "ExecuteTime": {
     "end_time": "2022-05-03T19:20:37.860408Z",
     "start_time": "2022-05-03T19:20:37.852675Z"
    }
   },
   "outputs": [
    {
     "name": "stdout",
     "output_type": "stream",
     "text": [
      "Decision tree with max depth of  3  gives us the best classifier with a recall of  0.77\n"
     ]
    }
   ],
   "source": [
    "print('Decision tree with max depth of ',max_depth,' gives us the best classifier with a recall of ',round(recall,2))"
   ]
  },
  {
   "cell_type": "code",
   "execution_count": 20,
   "metadata": {
    "ExecuteTime": {
     "end_time": "2022-05-03T19:20:38.250798Z",
     "start_time": "2022-05-03T19:20:37.863305Z"
    }
   },
   "outputs": [
    {
     "data": {
      "image/png": "[encoded data removed]",
      "text/plain": [
       "<Figure size 800x480 with 1 Axes>"
      ]
     },
     "metadata": {
      "needs_background": "light"
     },
     "output_type": "display_data"
    }
   ],
   "source": [
    "dt_3 = {'classifier': DecisionTreeClassifier(criterion = 'entropy', random_state = 0, max_depth=3)}\n",
    "dt_3['classifier'].fit(X_train, y_train)\n",
    "dt_3 = get_predictions(dt_check,X_test)\n",
    "plot_decision_areas(dt_3, X_test, y_test)\n",
    "model_list.append(dt_3)"
   ]
  },
  {
   "cell_type": "markdown",
   "metadata": {},
   "source": [
    "<div style=\"height:20px;text-align_center\"><hr/></div>"
   ]
  },
  {
   "cell_type": "markdown",
   "metadata": {},
   "source": [
    "<h4>6) Training a random forest classifier</h4>"
   ]
  },
  {
   "cell_type": "code",
   "execution_count": 21,
   "metadata": {
    "ExecuteTime": {
     "end_time": "2022-05-03T19:20:38.633517Z",
     "start_time": "2022-05-03T19:20:38.256367Z"
    }
   },
   "outputs": [
    {
     "data": {
      "image/png": "[encoded data removed]",
      "text/plain": [
       "<Figure size 800x480 with 1 Axes>"
      ]
     },
     "metadata": {
      "needs_background": "light"
     },
     "output_type": "display_data"
    }
   ],
   "source": [
    "from sklearn.ensemble import RandomForestClassifier\n",
    "rf = {'classifier': RandomForestClassifier(criterion = 'entropy', n_estimators = 5)}\n",
    "rf['classifier'].fit(X_train, y_train)\n",
    "plot_decision_areas(rf, X_test, y_test)\n",
    "model_list.append(rf)"
   ]
  },
  {
   "cell_type": "markdown",
   "metadata": {},
   "source": [
    "<div style=\"height:20px;text-align_center\"><hr/></div>"
   ]
  },
  {
   "cell_type": "markdown",
   "metadata": {},
   "source": [
    "<h4>7) Tuning the hyperparameters for the random forest classifier</h4>"
   ]
  },
  {
   "cell_type": "code",
   "execution_count": 22,
   "metadata": {
    "ExecuteTime": {
     "end_time": "2022-05-03T19:20:48.461950Z",
     "start_time": "2022-05-03T19:20:38.637510Z"
    }
   },
   "outputs": [
    {
     "name": "stdout",
     "output_type": "stream",
     "text": [
      "Fitting 3 folds for each of 120 candidates, totalling 360 fits\n"
     ]
    },
    {
     "data": {
      "text/plain": [
       "GridSearchCV(cv=3, estimator=RandomForestClassifier(), n_jobs=-1,\n",
       "             param_grid={'class_weight': ['balanced', 'balanced_subsample'],\n",
       "                         'criterion': ['gini', 'entropy'],\n",
       "                         'max_features': ['auto', 'sqrt', 'log2'],\n",
       "                         'n_estimators': [10, 11, 12, 13, 14, 15, 16, 17, 18,\n",
       "                                          19]},\n",
       "             verbose=2)"
      ]
     },
     "execution_count": 22,
     "metadata": {},
     "output_type": "execute_result"
    }
   ],
   "source": [
    "from sklearn.model_selection import GridSearchCV\n",
    "param_grid = {\n",
    "    'n_estimators': [i for i in range(10,20)],\n",
    "    'criterion' : ['gini', 'entropy'],\n",
    "    'max_features': ['auto', 'sqrt', 'log2'],\n",
    "    'class_weight': ['balanced', 'balanced_subsample']\n",
    "}\n",
    "\n",
    "rf_tuned = RandomForestClassifier()\n",
    "grid_search = GridSearchCV(estimator = rf_tuned, param_grid = param_grid, cv = 3, n_jobs = -1, verbose = 2)\n",
    "grid_search.fit(X_train, y_train)"
   ]
  },
  {
   "cell_type": "code",
   "execution_count": 23,
   "metadata": {
    "ExecuteTime": {
     "end_time": "2022-05-03T19:20:48.485633Z",
     "start_time": "2022-05-03T19:20:48.466415Z"
    }
   },
   "outputs": [
    {
     "data": {
      "text/plain": [
       "{'class_weight': 'balanced_subsample',\n",
       " 'criterion': 'entropy',\n",
       " 'max_features': 'log2',\n",
       " 'n_estimators': 16}"
      ]
     },
     "execution_count": 23,
     "metadata": {},
     "output_type": "execute_result"
    }
   ],
   "source": [
    "grid_search.best_params_"
   ]
  },
  {
   "cell_type": "code",
   "execution_count": 24,
   "metadata": {
    "ExecuteTime": {
     "end_time": "2022-05-03T19:20:49.029425Z",
     "start_time": "2022-05-03T19:20:48.498970Z"
    }
   },
   "outputs": [
    {
     "data": {
      "image/png": "[encoded data removed]",
      "text/plain": [
       "<Figure size 800x480 with 1 Axes>"
      ]
     },
     "metadata": {
      "needs_background": "light"
     },
     "output_type": "display_data"
    }
   ],
   "source": [
    "re_maximized = {'classifier': RandomForestClassifier(criterion = 'gini', n_estimators = 10, class_weight='balanced')}\n",
    "re_maximized['classifier'].fit(X_train, y_train)\n",
    "plot_decision_areas(re_maximized, X_test, y_test)\n",
    "model_list.append(re_maximized)"
   ]
  },
  {
   "cell_type": "markdown",
   "metadata": {},
   "source": [
    "<div style=\"height:20px;text-align_center\"><hr/></div>"
   ]
  },
  {
   "cell_type": "markdown",
   "metadata": {},
   "source": [
    "<h4>8) Training SVM with a linear kernel</h4>"
   ]
  },
  {
   "cell_type": "code",
   "execution_count": 25,
   "metadata": {
    "ExecuteTime": {
     "end_time": "2022-05-03T19:20:49.713870Z",
     "start_time": "2022-05-03T19:20:49.034955Z"
    }
   },
   "outputs": [
    {
     "data": {
      "image/png": "[encoded data removed]",
      "text/plain": [
       "<Figure size 800x480 with 1 Axes>"
      ]
     },
     "metadata": {
      "needs_background": "light"
     },
     "output_type": "display_data"
    }
   ],
   "source": [
    "from sklearn.svm import SVC\n",
    "svm = {'classifier': SVC(kernel = 'linear', random_state = 0, probability = True)}\n",
    "svm['classifier'].fit(X_train, y_train)\n",
    "plot_decision_areas(svm, X_test, y_test)\n",
    "model_list.append(svm)"
   ]
  },
  {
   "cell_type": "markdown",
   "metadata": {},
   "source": [
    "<div style=\"height:20px;text-align_center\"><hr/></div>"
   ]
  },
  {
   "cell_type": "markdown",
   "metadata": {},
   "source": [
    "<h4>9) Comparing accuracy of classifiers trained above</h4>"
   ]
  },
  {
   "cell_type": "code",
   "execution_count": 26,
   "metadata": {
    "ExecuteTime": {
     "end_time": "2022-05-03T19:20:49.870506Z",
     "start_time": "2022-05-03T19:20:49.716950Z"
    }
   },
   "outputs": [
    {
     "data": {
      "text/html": [
       "<div>\n",
       "<style scoped>\n",
       "    .dataframe tbody tr th:only-of-type {\n",
       "        vertical-align: middle;\n",
       "    }\n",
       "\n",
       "    .dataframe tbody tr th {\n",
       "        vertical-align: top;\n",
       "    }\n",
       "\n",
       "    .dataframe thead th {\n",
       "        text-align: right;\n",
       "    }\n",
       "</style>\n",
       "<table border=\"1\" class=\"dataframe\">\n",
       "  <thead>\n",
       "    <tr style=\"text-align: right;\">\n",
       "      <th></th>\n",
       "      <th>Accuracy</th>\n",
       "      <th>Precision</th>\n",
       "      <th>Recall</th>\n",
       "      <th>F1 score</th>\n",
       "      <th>AUC score</th>\n",
       "    </tr>\n",
       "  </thead>\n",
       "  <tbody>\n",
       "    <tr>\n",
       "      <th>KNeighborsClassifier</th>\n",
       "      <td>0.87</td>\n",
       "      <td>0.83</td>\n",
       "      <td>0.81</td>\n",
       "      <td>0.82</td>\n",
       "      <td>0.90</td>\n",
       "    </tr>\n",
       "    <tr>\n",
       "      <th>KNeighborsClassifier</th>\n",
       "      <td>0.91</td>\n",
       "      <td>0.87</td>\n",
       "      <td>0.89</td>\n",
       "      <td>0.88</td>\n",
       "      <td>0.96</td>\n",
       "    </tr>\n",
       "    <tr>\n",
       "      <th>DecisionTreeClassifier</th>\n",
       "      <td>0.85</td>\n",
       "      <td>0.82</td>\n",
       "      <td>0.77</td>\n",
       "      <td>0.80</td>\n",
       "      <td>0.84</td>\n",
       "    </tr>\n",
       "    <tr>\n",
       "      <th>DecisionTreeClassifier</th>\n",
       "      <td>0.85</td>\n",
       "      <td>0.82</td>\n",
       "      <td>0.77</td>\n",
       "      <td>0.80</td>\n",
       "      <td>0.84</td>\n",
       "    </tr>\n",
       "    <tr>\n",
       "      <th>RandomForestClassifier</th>\n",
       "      <td>0.85</td>\n",
       "      <td>0.80</td>\n",
       "      <td>0.77</td>\n",
       "      <td>0.79</td>\n",
       "      <td>0.89</td>\n",
       "    </tr>\n",
       "    <tr>\n",
       "      <th>RandomForestClassifier</th>\n",
       "      <td>0.87</td>\n",
       "      <td>0.84</td>\n",
       "      <td>0.81</td>\n",
       "      <td>0.83</td>\n",
       "      <td>0.93</td>\n",
       "    </tr>\n",
       "    <tr>\n",
       "      <th>SVC</th>\n",
       "      <td>0.90</td>\n",
       "      <td>0.87</td>\n",
       "      <td>0.87</td>\n",
       "      <td>0.87</td>\n",
       "      <td>0.97</td>\n",
       "    </tr>\n",
       "  </tbody>\n",
       "</table>\n",
       "</div>"
      ],
      "text/plain": [
       "                        Accuracy  Precision  Recall  F1 score  AUC score\n",
       "KNeighborsClassifier        0.87       0.83    0.81      0.82       0.90\n",
       "KNeighborsClassifier        0.91       0.87    0.89      0.88       0.96\n",
       "DecisionTreeClassifier      0.85       0.82    0.77      0.80       0.84\n",
       "DecisionTreeClassifier      0.85       0.82    0.77      0.80       0.84\n",
       "RandomForestClassifier      0.85       0.80    0.77      0.79       0.89\n",
       "RandomForestClassifier      0.87       0.84    0.81      0.83       0.93\n",
       "SVC                         0.90       0.87    0.87      0.87       0.97"
      ]
     },
     "execution_count": 26,
     "metadata": {},
     "output_type": "execute_result"
    }
   ],
   "source": [
    "for model in model_list:\n",
    "    model = get_predictions(model,X_test)\n",
    "    model['metrics'] = compute_metrics(model, y_test)\n",
    "pd.concat([model['metrics'] for model in model_list])"
   ]
  },
  {
   "cell_type": "markdown",
   "metadata": {},
   "source": [
    "<p> Using recall as our comparison metric, we can see from above that the kNN algorithm with k=23 would be the best classifier to use for predicting the cancer type</p>"
   ]
  },
  {
   "cell_type": "markdown",
   "metadata": {},
   "source": [
    "<div style=\"height:20px;text-align_center\"><hr/></div>"
   ]
  },
  {
   "cell_type": "markdown",
   "metadata": {},
   "source": [
    "<h4>10) Best choice knn with k= 23 performance</h4>"
   ]
  },
  {
   "cell_type": "code",
   "execution_count": 27,
   "metadata": {
    "ExecuteTime": {
     "end_time": "2022-05-03T19:20:49.884636Z",
     "start_time": "2022-05-03T19:20:49.874264Z"
    }
   },
   "outputs": [
    {
     "name": "stdout",
     "output_type": "stream",
     "text": [
      "                        Accuracy  Precision  Recall  F1 score  AUC score\n",
      "DecisionTreeClassifier      0.85       0.82    0.77       0.8       0.84\n",
      "[CV] END class_weight=balanced, criterion=gini, max_features=auto, n_estimators=10; total time=   0.1s\n",
      "[CV] END class_weight=balanced, criterion=gini, max_features=auto, n_estimators=11; total time=   0.1s\n",
      "[CV] END class_weight=balanced, criterion=gini, max_features=auto, n_estimators=13; total time=   0.1s\n",
      "[CV] END class_weight=balanced, criterion=gini, max_features=auto, n_estimators=14; total time=   0.1s\n",
      "[CV] END class_weight=balanced, criterion=gini, max_features=auto, n_estimators=15; total time=   0.1s\n",
      "[CV] END class_weight=balanced, criterion=gini, max_features=auto, n_estimators=16; total time=   0.1s\n",
      "[CV] END class_weight=balanced, criterion=gini, max_features=auto, n_estimators=18; total time=   0.1s\n",
      "[CV] END class_weight=balanced, criterion=gini, max_features=auto, n_estimators=19; total time=   0.1s\n",
      "[CV] END class_weight=balanced, criterion=gini, max_features=sqrt, n_estimators=11; total time=   0.0s\n",
      "[CV] END class_weight=balanced, criterion=gini, max_features=sqrt, n_estimators=13; total time=   0.1s\n",
      "[CV] END class_weight=balanced, criterion=gini, max_features=sqrt, n_estimators=13; total time=   0.1s\n",
      "[CV] END class_weight=balanced, criterion=gini, max_features=sqrt, n_estimators=16; total time=   0.1s\n",
      "[CV] END class_weight=balanced, criterion=gini, max_features=sqrt, n_estimators=16; total time=   0.1s\n",
      "[CV] END class_weight=balanced, criterion=gini, max_features=log2, n_estimators=10; total time=   0.0s\n",
      "[CV] END class_weight=balanced, criterion=gini, max_features=log2, n_estimators=10; total time=   0.0s\n",
      "[CV] END class_weight=balanced, criterion=gini, max_features=log2, n_estimators=10; total time=   0.0s\n",
      "[CV] END class_weight=balanced, criterion=gini, max_features=log2, n_estimators=11; total time=   0.0s\n",
      "[CV] END class_weight=balanced, criterion=gini, max_features=log2, n_estimators=12; total time=   0.1s\n",
      "[CV] END class_weight=balanced, criterion=gini, max_features=log2, n_estimators=13; total time=   0.1s\n",
      "[CV] END class_weight=balanced, criterion=gini, max_features=log2, n_estimators=13; total time=   0.1s\n",
      "[CV] END class_weight=balanced, criterion=gini, max_features=log2, n_estimators=13; total time=   0.1s\n",
      "[CV] END class_weight=balanced, criterion=gini, max_features=log2, n_estimators=18; total time=   0.1s\n",
      "[CV] END class_weight=balanced, criterion=gini, max_features=log2, n_estimators=18; total time=   0.1s\n",
      "[CV] END class_weight=balanced, criterion=gini, max_features=log2, n_estimators=18; total time=   0.1s\n",
      "[CV] END class_weight=balanced, criterion=gini, max_features=log2, n_estimators=19; total time=   0.1s\n",
      "[CV] END class_weight=balanced, criterion=entropy, max_features=auto, n_estimators=16; total time=   0.1s\n",
      "[CV] END class_weight=balanced, criterion=entropy, max_features=auto, n_estimators=16; total time=   0.1s\n",
      "[CV] END class_weight=balanced, criterion=entropy, max_features=auto, n_estimators=16; total time=   0.1s\n",
      "[CV] END class_weight=balanced, criterion=entropy, max_features=auto, n_estimators=17; total time=   0.1s\n",
      "[CV] END class_weight=balanced, criterion=entropy, max_features=sqrt, n_estimators=11; total time=   0.0s\n",
      "[CV] END class_weight=balanced, criterion=entropy, max_features=sqrt, n_estimators=11; total time=   0.0s\n",
      "[CV] END class_weight=balanced, criterion=entropy, max_features=sqrt, n_estimators=12; total time=   0.0s\n",
      "[CV] END class_weight=balanced, criterion=entropy, max_features=sqrt, n_estimators=12; total time=   0.1s\n",
      "[CV] END class_weight=balanced, criterion=entropy, max_features=sqrt, n_estimators=15; total time=   0.1s\n",
      "[CV] END class_weight=balanced, criterion=entropy, max_features=sqrt, n_estimators=15; total time=   0.1s\n",
      "[CV] END class_weight=balanced, criterion=entropy, max_features=sqrt, n_estimators=16; total time=   0.1s\n",
      "[CV] END class_weight=balanced, criterion=entropy, max_features=sqrt, n_estimators=16; total time=   0.1s\n",
      "[CV] END class_weight=balanced, criterion=entropy, max_features=log2, n_estimators=10; total time=   0.0s\n",
      "[CV] END class_weight=balanced, criterion=entropy, max_features=log2, n_estimators=11; total time=   0.1s\n",
      "[CV] END class_weight=balanced, criterion=entropy, max_features=log2, n_estimators=11; total time=   0.0s\n",
      "[CV] END class_weight=balanced, criterion=entropy, max_features=log2, n_estimators=11; total time=   0.0s\n",
      "[CV] END class_weight=balanced, criterion=entropy, max_features=log2, n_estimators=14; total time=   0.1s\n",
      "[CV] END class_weight=balanced, criterion=entropy, max_features=log2, n_estimators=15; total time=   0.1s\n",
      "[CV] END class_weight=balanced, criterion=entropy, max_features=log2, n_estimators=15; total time=   0.1s\n",
      "[CV] END class_weight=balanced, criterion=entropy, max_features=log2, n_estimators=15; total time=   0.1s\n",
      "[CV] END class_weight=balanced_subsample, criterion=gini, max_features=auto, n_estimators=10; total time=   0.1s\n",
      "[CV] END class_weight=balanced_subsample, criterion=gini, max_features=auto, n_estimators=10; total time=   0.1s\n",
      "[CV] END class_weight=balanced_subsample, criterion=gini, max_features=auto, n_estimators=10; total time=   0.1s\n",
      "[CV] END class_weight=balanced_subsample, criterion=gini, max_features=auto, n_estimators=11; total time=   0.1s\n",
      "[CV] END class_weight=balanced_subsample, criterion=gini, max_features=auto, n_estimators=14; total time=   0.1s\n",
      "[CV] END class_weight=balanced_subsample, criterion=gini, max_features=auto, n_estimators=14; total time=   0.1s\n",
      "[CV] END class_weight=balanced_subsample, criterion=gini, max_features=auto, n_estimators=14; total time=   0.1s\n",
      "[CV] END class_weight=balanced_subsample, criterion=gini, max_features=auto, n_estimators=15; total time=   0.1s\n",
      "[CV] END class_weight=balanced_subsample, criterion=gini, max_features=auto, n_estimators=19; total time=   0.1s\n",
      "[CV] END class_weight=balanced_subsample, criterion=gini, max_features=auto, n_estimators=19; total time=   0.1s\n",
      "[CV] END class_weight=balanced_subsample, criterion=gini, max_features=sqrt, n_estimators=10; total time=   0.1s\n",
      "[CV] END class_weight=balanced_subsample, criterion=gini, max_features=sqrt, n_estimators=10; total time=   0.1s\n",
      "[CV] END class_weight=balanced_subsample, criterion=gini, max_features=sqrt, n_estimators=16; total time=   0.1s\n",
      "[CV] END class_weight=balanced_subsample, criterion=gini, max_features=sqrt, n_estimators=16; total time=   0.1s\n",
      "[CV] END class_weight=balanced_subsample, criterion=gini, max_features=sqrt, n_estimators=16; total time=   0.1s\n",
      "[CV] END class_weight=balanced_subsample, criterion=gini, max_features=sqrt, n_estimators=17; total time=   0.1s\n",
      "[CV] END class_weight=balanced_subsample, criterion=gini, max_features=log2, n_estimators=11; total time=   0.1s\n",
      "[CV] END class_weight=balanced_subsample, criterion=gini, max_features=log2, n_estimators=11; total time=   0.1s\n",
      "[CV] END class_weight=balanced_subsample, criterion=gini, max_features=log2, n_estimators=12; total time=   0.1s\n",
      "[CV] END class_weight=balanced_subsample, criterion=gini, max_features=log2, n_estimators=12; total time=   0.1s\n",
      "[CV] END class_weight=balanced_subsample, criterion=gini, max_features=log2, n_estimators=15; total time=   0.1s\n",
      "[CV] END class_weight=balanced_subsample, criterion=gini, max_features=log2, n_estimators=15; total time=   0.1s\n",
      "[CV] END class_weight=balanced_subsample, criterion=gini, max_features=log2, n_estimators=16; total time=   0.1s\n",
      "[CV] END class_weight=balanced_subsample, criterion=gini, max_features=log2, n_estimators=16; total time=   0.1s\n",
      "[CV] END class_weight=balanced_subsample, criterion=entropy, max_features=auto, n_estimators=10; total time=   0.1s\n",
      "[CV] END class_weight=balanced_subsample, criterion=entropy, max_features=auto, n_estimators=11; total time=   0.1s\n",
      "[CV] END class_weight=balanced_subsample, criterion=entropy, max_features=auto, n_estimators=11; total time=   0.1s\n",
      "[CV] END class_weight=balanced_subsample, criterion=entropy, max_features=auto, n_estimators=11; total time=   0.1s\n",
      "[CV] END class_weight=balanced_subsample, criterion=entropy, max_features=auto, n_estimators=14; total time=   0.1s\n",
      "[CV] END class_weight=balanced_subsample, criterion=entropy, max_features=auto, n_estimators=15; total time=   0.1s\n",
      "[CV] END class_weight=balanced_subsample, criterion=entropy, max_features=auto, n_estimators=15; total time=   0.1s\n",
      "[CV] END class_weight=balanced_subsample, criterion=entropy, max_features=auto, n_estimators=15; total time=   0.1s\n",
      "[CV] END class_weight=balanced_subsample, criterion=entropy, max_features=sqrt, n_estimators=10; total time=   0.1s\n",
      "[CV] END class_weight=balanced_subsample, criterion=entropy, max_features=sqrt, n_estimators=10; total time=   0.1s\n",
      "[CV] END class_weight=balanced_subsample, criterion=entropy, max_features=sqrt, n_estimators=10; total time=   0.1s\n",
      "[CV] END class_weight=balanced_subsample, criterion=entropy, max_features=sqrt, n_estimators=11; total time=   0.1s\n",
      "[CV] END class_weight=balanced_subsample, criterion=entropy, max_features=sqrt, n_estimators=14; total time=   0.1s\n",
      "[CV] END class_weight=balanced_subsample, criterion=entropy, max_features=sqrt, n_estimators=14; total time=   0.1s\n",
      "[CV] END class_weight=balanced_subsample, criterion=entropy, max_features=sqrt, n_estimators=14; total time=   0.1s\n",
      "[CV] END class_weight=balanced_subsample, criterion=entropy, max_features=sqrt, n_estimators=15; total time=   0.1s\n",
      "[CV] END class_weight=balanced_subsample, criterion=entropy, max_features=sqrt, n_estimators=19; total time=   0.1s\n",
      "[CV] END class_weight=balanced_subsample, criterion=entropy, max_features=sqrt, n_estimators=19; total time=   0.1s\n",
      "[CV] END class_weight=balanced_subsample, criterion=entropy, max_features=log2, n_estimators=10; total time=   0.1s\n",
      "[CV] END class_weight=balanced_subsample, criterion=entropy, max_features=log2, n_estimators=10; total time=   0.1s\n",
      "[CV] END class_weight=balanced_subsample, criterion=entropy, max_features=log2, n_estimators=14; total time=   0.1s\n",
      "[CV] END class_weight=balanced_subsample, criterion=entropy, max_features=log2, n_estimators=15; total time=   0.1s\n",
      "[CV] END class_weight=balanced_subsample, criterion=entropy, max_features=log2, n_estimators=15; total time=   0.1s\n",
      "[CV] END class_weight=balanced_subsample, criterion=entropy, max_features=log2, n_estimators=15; total time=   0.1s\n",
      "[CV] END class_weight=balanced_subsample, criterion=entropy, max_features=log2, n_estimators=19; total time=   0.1s\n"
     ]
    },
    {
     "name": "stdout",
     "output_type": "stream",
     "text": [
      "[CV] END class_weight=balanced, criterion=gini, max_features=auto, n_estimators=10; total time=   0.1s\n",
      "[CV] END class_weight=balanced, criterion=gini, max_features=auto, n_estimators=11; total time=   0.0s\n",
      "[CV] END class_weight=balanced, criterion=gini, max_features=auto, n_estimators=12; total time=   0.1s\n",
      "[CV] END class_weight=balanced, criterion=gini, max_features=auto, n_estimators=14; total time=   0.1s\n",
      "[CV] END class_weight=balanced, criterion=gini, max_features=auto, n_estimators=15; total time=   0.1s\n",
      "[CV] END class_weight=balanced, criterion=gini, max_features=auto, n_estimators=17; total time=   0.1s\n",
      "[CV] END class_weight=balanced, criterion=gini, max_features=auto, n_estimators=18; total time=   0.1s\n",
      "[CV] END class_weight=balanced, criterion=gini, max_features=auto, n_estimators=19; total time=   0.1s\n",
      "[CV] END class_weight=balanced, criterion=gini, max_features=sqrt, n_estimators=11; total time=   0.1s\n",
      "[CV] END class_weight=balanced, criterion=gini, max_features=sqrt, n_estimators=14; total time=   0.1s\n",
      "[CV] END class_weight=balanced, criterion=gini, max_features=sqrt, n_estimators=14; total time=   0.1s\n",
      "[CV] END class_weight=balanced, criterion=gini, max_features=sqrt, n_estimators=16; total time=   0.1s\n",
      "[CV] END class_weight=balanced, criterion=gini, max_features=sqrt, n_estimators=17; total time=   0.1s\n",
      "[CV] END class_weight=balanced, criterion=gini, max_features=log2, n_estimators=11; total time=   0.1s\n",
      "[CV] END class_weight=balanced, criterion=gini, max_features=log2, n_estimators=11; total time=   0.0s\n",
      "[CV] END class_weight=balanced, criterion=gini, max_features=log2, n_estimators=12; total time=   0.0s\n",
      "[CV] END class_weight=balanced, criterion=gini, max_features=log2, n_estimators=12; total time=   0.1s\n",
      "[CV] END class_weight=balanced, criterion=gini, max_features=log2, n_estimators=14; total time=   0.1s\n",
      "[CV] END class_weight=balanced, criterion=gini, max_features=log2, n_estimators=14; total time=   0.1s\n",
      "[CV] END class_weight=balanced, criterion=gini, max_features=log2, n_estimators=14; total time=   0.1s\n",
      "[CV] END class_weight=balanced, criterion=gini, max_features=log2, n_estimators=15; total time=   0.1s\n",
      "[CV] END class_weight=balanced, criterion=gini, max_features=log2, n_estimators=19; total time=   0.1s\n",
      "[CV] END class_weight=balanced, criterion=gini, max_features=log2, n_estimators=19; total time=   0.1s\n",
      "[CV] END class_weight=balanced, criterion=entropy, max_features=auto, n_estimators=10; total time=   0.0s\n",
      "[CV] END class_weight=balanced, criterion=entropy, max_features=auto, n_estimators=10; total time=   0.0s\n",
      "[CV] END class_weight=balanced, criterion=entropy, max_features=auto, n_estimators=13; total time=   0.1s\n",
      "[CV] END class_weight=balanced, criterion=entropy, max_features=auto, n_estimators=13; total time=   0.1s\n",
      "[CV] END class_weight=balanced, criterion=entropy, max_features=auto, n_estimators=14; total time=   0.1s\n",
      "[CV] END class_weight=balanced, criterion=entropy, max_features=auto, n_estimators=14; total time=   0.1s\n",
      "[CV] END class_weight=balanced, criterion=entropy, max_features=auto, n_estimators=18; total time=   0.1s\n",
      "[CV] END class_weight=balanced, criterion=entropy, max_features=auto, n_estimators=19; total time=   0.1s\n",
      "[CV] END class_weight=balanced, criterion=entropy, max_features=auto, n_estimators=19; total time=   0.1s\n",
      "[CV] END class_weight=balanced, criterion=entropy, max_features=auto, n_estimators=19; total time=   0.1s\n",
      "[CV] END class_weight=balanced, criterion=entropy, max_features=sqrt, n_estimators=16; total time=   0.1s\n",
      "[CV] END class_weight=balanced, criterion=entropy, max_features=sqrt, n_estimators=17; total time=   0.1s\n",
      "[CV] END class_weight=balanced, criterion=entropy, max_features=sqrt, n_estimators=17; total time=   0.1s\n",
      "[CV] END class_weight=balanced, criterion=entropy, max_features=sqrt, n_estimators=17; total time=   0.1s\n",
      "[CV] END class_weight=balanced, criterion=entropy, max_features=log2, n_estimators=12; total time=   0.1s\n",
      "[CV] END class_weight=balanced, criterion=entropy, max_features=log2, n_estimators=12; total time=   0.1s\n",
      "[CV] END class_weight=balanced, criterion=entropy, max_features=log2, n_estimators=12; total time=   0.1s\n",
      "[CV] END class_weight=balanced, criterion=entropy, max_features=log2, n_estimators=13; total time=   0.1s\n",
      "[CV] END class_weight=balanced, criterion=entropy, max_features=log2, n_estimators=17; total time=   0.1s\n",
      "[CV] END class_weight=balanced, criterion=entropy, max_features=log2, n_estimators=17; total time=   0.1s\n",
      "[CV] END class_weight=balanced, criterion=entropy, max_features=log2, n_estimators=18; total time=   0.1s\n",
      "[CV] END class_weight=balanced, criterion=entropy, max_features=log2, n_estimators=18; total time=   0.1s\n",
      "[CV] END class_weight=balanced_subsample, criterion=gini, max_features=auto, n_estimators=12; total time=   0.1s\n",
      "[CV] END class_weight=balanced_subsample, criterion=gini, max_features=auto, n_estimators=13; total time=   0.1s\n",
      "[CV] END class_weight=balanced_subsample, criterion=gini, max_features=auto, n_estimators=13; total time=   0.1s\n",
      "[CV] END class_weight=balanced_subsample, criterion=gini, max_features=auto, n_estimators=13; total time=   0.1s\n",
      "[CV] END class_weight=balanced_subsample, criterion=gini, max_features=auto, n_estimators=18; total time=   0.1s\n",
      "[CV] END class_weight=balanced_subsample, criterion=gini, max_features=auto, n_estimators=18; total time=   0.1s\n",
      "[CV] END class_weight=balanced_subsample, criterion=gini, max_features=auto, n_estimators=18; total time=   0.1s\n",
      "[CV] END class_weight=balanced_subsample, criterion=gini, max_features=auto, n_estimators=19; total time=   0.1s\n",
      "[CV] END class_weight=balanced_subsample, criterion=gini, max_features=sqrt, n_estimators=13; total time=   0.1s\n",
      "[CV] END class_weight=balanced_subsample, criterion=gini, max_features=sqrt, n_estimators=13; total time=   0.1s\n",
      "[CV] END class_weight=balanced_subsample, criterion=gini, max_features=sqrt, n_estimators=14; total time=   0.1s\n",
      "[CV] END class_weight=balanced_subsample, criterion=gini, max_features=sqrt, n_estimators=14; total time=   0.1s\n",
      "[CV] END class_weight=balanced_subsample, criterion=gini, max_features=sqrt, n_estimators=18; total time=   0.1s\n",
      "[CV] END class_weight=balanced_subsample, criterion=gini, max_features=sqrt, n_estimators=19; total time=   0.1s\n",
      "[CV] END class_weight=balanced_subsample, criterion=gini, max_features=sqrt, n_estimators=19; total time=   0.1s\n",
      "[CV] END class_weight=balanced_subsample, criterion=gini, max_features=sqrt, n_estimators=19; total time=   0.1s\n",
      "[CV] END class_weight=balanced_subsample, criterion=gini, max_features=log2, n_estimators=16; total time=   0.1s\n",
      "[CV] END class_weight=balanced_subsample, criterion=gini, max_features=log2, n_estimators=17; total time=   0.1s\n",
      "[CV] END class_weight=balanced_subsample, criterion=gini, max_features=log2, n_estimators=17; total time=   0.1s\n",
      "[CV] END class_weight=balanced_subsample, criterion=gini, max_features=log2, n_estimators=17; total time=   0.1s\n",
      "[CV] END class_weight=balanced_subsample, criterion=entropy, max_features=auto, n_estimators=12; total time=   0.1s\n",
      "[CV] END class_weight=balanced_subsample, criterion=entropy, max_features=auto, n_estimators=12; total time=   0.1s\n",
      "[CV] END class_weight=balanced_subsample, criterion=entropy, max_features=auto, n_estimators=12; total time=   0.1s\n",
      "[CV] END class_weight=balanced_subsample, criterion=entropy, max_features=auto, n_estimators=13; total time=   0.1s\n",
      "[CV] END class_weight=balanced_subsample, criterion=entropy, max_features=auto, n_estimators=17; total time=   0.1s\n",
      "[CV] END class_weight=balanced_subsample, criterion=entropy, max_features=auto, n_estimators=17; total time=   0.1s\n",
      "[CV] END class_weight=balanced_subsample, criterion=entropy, max_features=auto, n_estimators=18; total time=   0.1s\n",
      "[CV] END class_weight=balanced_subsample, criterion=entropy, max_features=auto, n_estimators=18; total time=   0.1s\n",
      "[CV] END class_weight=balanced_subsample, criterion=entropy, max_features=sqrt, n_estimators=12; total time=   0.1s\n",
      "[CV] END class_weight=balanced_subsample, criterion=entropy, max_features=sqrt, n_estimators=13; total time=   0.1s\n",
      "[CV] END class_weight=balanced_subsample, criterion=entropy, max_features=sqrt, n_estimators=13; total time=   0.1s\n",
      "[CV] END class_weight=balanced_subsample, criterion=entropy, max_features=sqrt, n_estimators=13; total time=   0.1s\n",
      "[CV] END class_weight=balanced_subsample, criterion=entropy, max_features=sqrt, n_estimators=18; total time=   0.1s\n",
      "[CV] END class_weight=balanced_subsample, criterion=entropy, max_features=sqrt, n_estimators=18; total time=   0.1s\n",
      "[CV] END class_weight=balanced_subsample, criterion=entropy, max_features=sqrt, n_estimators=18; total time=   0.1s\n",
      "[CV] END class_weight=balanced_subsample, criterion=entropy, max_features=sqrt, n_estimators=19; total time=   0.1s\n",
      "[CV] END class_weight=balanced_subsample, criterion=entropy, max_features=log2, n_estimators=13; total time=   0.1s\n",
      "[CV] END class_weight=balanced_subsample, criterion=entropy, max_features=log2, n_estimators=13; total time=   0.1s\n",
      "[CV] END class_weight=balanced_subsample, criterion=entropy, max_features=log2, n_estimators=14; total time=   0.1s\n",
      "[CV] END class_weight=balanced_subsample, criterion=entropy, max_features=log2, n_estimators=14; total time=   0.1s\n",
      "[CV] END class_weight=balanced_subsample, criterion=entropy, max_features=log2, n_estimators=18; total time=   0.1s\n",
      "[CV] END class_weight=balanced_subsample, criterion=entropy, max_features=log2, n_estimators=19; total time=   0.1s\n"
     ]
    },
    {
     "name": "stdout",
     "output_type": "stream",
     "text": [
      "[CV] END class_weight=balanced, criterion=gini, max_features=auto, n_estimators=10; total time=   0.1s\n",
      "[CV] END class_weight=balanced, criterion=gini, max_features=auto, n_estimators=12; total time=   0.1s\n",
      "[CV] END class_weight=balanced, criterion=gini, max_features=auto, n_estimators=13; total time=   0.1s\n",
      "[CV] END class_weight=balanced, criterion=gini, max_features=auto, n_estimators=14; total time=   0.1s\n",
      "[CV] END class_weight=balanced, criterion=gini, max_features=auto, n_estimators=16; total time=   0.1s\n",
      "[CV] END class_weight=balanced, criterion=gini, max_features=auto, n_estimators=17; total time=   0.1s\n",
      "[CV] END class_weight=balanced, criterion=gini, max_features=auto, n_estimators=19; total time=   0.1s\n",
      "[CV] END class_weight=balanced, criterion=gini, max_features=sqrt, n_estimators=10; total time=   0.0s\n",
      "[CV] END class_weight=balanced, criterion=gini, max_features=sqrt, n_estimators=11; total time=   0.1s\n",
      "[CV] END class_weight=balanced, criterion=gini, max_features=sqrt, n_estimators=12; total time=   0.1s\n",
      "[CV] END class_weight=balanced, criterion=gini, max_features=sqrt, n_estimators=13; total time=   0.1s\n",
      "[CV] END class_weight=balanced, criterion=gini, max_features=sqrt, n_estimators=15; total time=   0.1s\n",
      "[CV] END class_weight=balanced, criterion=gini, max_features=sqrt, n_estimators=15; total time=   0.1s\n",
      "[CV] END class_weight=balanced, criterion=gini, max_features=sqrt, n_estimators=18; total time=   0.1s\n",
      "[CV] END class_weight=balanced, criterion=gini, max_features=sqrt, n_estimators=19; total time=   0.1s\n",
      "[CV] END class_weight=balanced, criterion=gini, max_features=sqrt, n_estimators=19; total time=   0.1s\n",
      "[CV] END class_weight=balanced, criterion=gini, max_features=sqrt, n_estimators=19; total time=   0.1s\n",
      "[CV] END class_weight=balanced, criterion=gini, max_features=log2, n_estimators=16; total time=   0.1s\n",
      "[CV] END class_weight=balanced, criterion=gini, max_features=log2, n_estimators=17; total time=   0.1s\n",
      "[CV] END class_weight=balanced, criterion=gini, max_features=log2, n_estimators=17; total time=   0.1s\n",
      "[CV] END class_weight=balanced, criterion=gini, max_features=log2, n_estimators=17; total time=   0.1s\n",
      "[CV] END class_weight=balanced, criterion=entropy, max_features=auto, n_estimators=12; total time=   0.1s\n",
      "[CV] END class_weight=balanced, criterion=entropy, max_features=auto, n_estimators=12; total time=   0.1s\n",
      "[CV] END class_weight=balanced, criterion=entropy, max_features=auto, n_estimators=12; total time=   0.1s\n",
      "[CV] END class_weight=balanced, criterion=entropy, max_features=auto, n_estimators=13; total time=   0.1s\n",
      "[CV] END class_weight=balanced, criterion=entropy, max_features=auto, n_estimators=17; total time=   0.1s\n",
      "[CV] END class_weight=balanced, criterion=entropy, max_features=auto, n_estimators=17; total time=   0.1s\n",
      "[CV] END class_weight=balanced, criterion=entropy, max_features=auto, n_estimators=18; total time=   0.1s\n",
      "[CV] END class_weight=balanced, criterion=entropy, max_features=auto, n_estimators=18; total time=   0.1s\n",
      "[CV] END class_weight=balanced, criterion=entropy, max_features=sqrt, n_estimators=12; total time=   0.1s\n",
      "[CV] END class_weight=balanced, criterion=entropy, max_features=sqrt, n_estimators=13; total time=   0.1s\n",
      "[CV] END class_weight=balanced, criterion=entropy, max_features=sqrt, n_estimators=13; total time=   0.1s\n",
      "[CV] END class_weight=balanced, criterion=entropy, max_features=sqrt, n_estimators=13; total time=   0.1s\n",
      "[CV] END class_weight=balanced, criterion=entropy, max_features=sqrt, n_estimators=18; total time=   0.1s\n",
      "[CV] END class_weight=balanced, criterion=entropy, max_features=sqrt, n_estimators=18; total time=   0.1s\n",
      "[CV] END class_weight=balanced, criterion=entropy, max_features=sqrt, n_estimators=18; total time=   0.1s\n",
      "[CV] END class_weight=balanced, criterion=entropy, max_features=sqrt, n_estimators=19; total time=   0.1s\n",
      "[CV] END class_weight=balanced, criterion=entropy, max_features=log2, n_estimators=13; total time=   0.1s\n",
      "[CV] END class_weight=balanced, criterion=entropy, max_features=log2, n_estimators=13; total time=   0.1s\n",
      "[CV] END class_weight=balanced, criterion=entropy, max_features=log2, n_estimators=14; total time=   0.1s\n",
      "[CV] END class_weight=balanced, criterion=entropy, max_features=log2, n_estimators=14; total time=   0.1s\n",
      "[CV] END class_weight=balanced, criterion=entropy, max_features=log2, n_estimators=18; total time=   0.1s\n",
      "[CV] END class_weight=balanced, criterion=entropy, max_features=log2, n_estimators=19; total time=   0.1s\n",
      "[CV] END class_weight=balanced, criterion=entropy, max_features=log2, n_estimators=19; total time=   0.1s\n",
      "[CV] END class_weight=balanced, criterion=entropy, max_features=log2, n_estimators=19; total time=   0.1s\n",
      "[CV] END class_weight=balanced_subsample, criterion=gini, max_features=auto, n_estimators=16; total time=   0.1s\n",
      "[CV] END class_weight=balanced_subsample, criterion=gini, max_features=auto, n_estimators=17; total time=   0.1s\n",
      "[CV] END class_weight=balanced_subsample, criterion=gini, max_features=auto, n_estimators=17; total time=   0.1s\n",
      "[CV] END class_weight=balanced_subsample, criterion=gini, max_features=auto, n_estimators=17; total time=   0.1s\n",
      "[CV] END class_weight=balanced_subsample, criterion=gini, max_features=sqrt, n_estimators=12; total time=   0.1s\n",
      "[CV] END class_weight=balanced_subsample, criterion=gini, max_features=sqrt, n_estimators=12; total time=   0.1s\n",
      "[CV] END class_weight=balanced_subsample, criterion=gini, max_features=sqrt, n_estimators=12; total time=   0.1s\n",
      "[CV] END class_weight=balanced_subsample, criterion=gini, max_features=sqrt, n_estimators=13; total time=   0.1s\n",
      "[CV] END class_weight=balanced_subsample, criterion=gini, max_features=sqrt, n_estimators=17; total time=   0.1s\n",
      "[CV] END class_weight=balanced_subsample, criterion=gini, max_features=sqrt, n_estimators=17; total time=   0.1s\n",
      "[CV] END class_weight=balanced_subsample, criterion=gini, max_features=sqrt, n_estimators=18; total time=   0.1s\n",
      "[CV] END class_weight=balanced_subsample, criterion=gini, max_features=sqrt, n_estimators=18; total time=   0.1s\n",
      "[CV] END class_weight=balanced_subsample, criterion=gini, max_features=log2, n_estimators=12; total time=   0.1s\n",
      "[CV] END class_weight=balanced_subsample, criterion=gini, max_features=log2, n_estimators=13; total time=   0.1s\n",
      "[CV] END class_weight=balanced_subsample, criterion=gini, max_features=log2, n_estimators=13; total time=   0.1s\n",
      "[CV] END class_weight=balanced_subsample, criterion=gini, max_features=log2, n_estimators=13; total time=   0.1s\n",
      "[CV] END class_weight=balanced_subsample, criterion=gini, max_features=log2, n_estimators=18; total time=   0.1s\n",
      "[CV] END class_weight=balanced_subsample, criterion=gini, max_features=log2, n_estimators=18; total time=   0.1s\n",
      "[CV] END class_weight=balanced_subsample, criterion=gini, max_features=log2, n_estimators=18; total time=   0.1s\n",
      "[CV] END class_weight=balanced_subsample, criterion=gini, max_features=log2, n_estimators=19; total time=   0.1s\n",
      "[CV] END class_weight=balanced_subsample, criterion=entropy, max_features=auto, n_estimators=13; total time=   0.1s\n",
      "[CV] END class_weight=balanced_subsample, criterion=entropy, max_features=auto, n_estimators=13; total time=   0.1s\n",
      "[CV] END class_weight=balanced_subsample, criterion=entropy, max_features=auto, n_estimators=14; total time=   0.1s\n",
      "[CV] END class_weight=balanced_subsample, criterion=entropy, max_features=auto, n_estimators=14; total time=   0.1s\n",
      "[CV] END class_weight=balanced_subsample, criterion=entropy, max_features=auto, n_estimators=18; total time=   0.1s\n",
      "[CV] END class_weight=balanced_subsample, criterion=entropy, max_features=auto, n_estimators=19; total time=   0.1s\n",
      "[CV] END class_weight=balanced_subsample, criterion=entropy, max_features=auto, n_estimators=19; total time=   0.1s\n",
      "[CV] END class_weight=balanced_subsample, criterion=entropy, max_features=auto, n_estimators=19; total time=   0.1s\n",
      "[CV] END class_weight=balanced_subsample, criterion=entropy, max_features=sqrt, n_estimators=16; total time=   0.1s\n",
      "[CV] END class_weight=balanced_subsample, criterion=entropy, max_features=sqrt, n_estimators=17; total time=   0.1s\n",
      "[CV] END class_weight=balanced_subsample, criterion=entropy, max_features=sqrt, n_estimators=17; total time=   0.1s\n",
      "[CV] END class_weight=balanced_subsample, criterion=entropy, max_features=sqrt, n_estimators=17; total time=   0.1s\n",
      "[CV] END class_weight=balanced_subsample, criterion=entropy, max_features=log2, n_estimators=12; total time=   0.1s\n",
      "[CV] END class_weight=balanced_subsample, criterion=entropy, max_features=log2, n_estimators=12; total time=   0.1s\n",
      "[CV] END class_weight=balanced_subsample, criterion=entropy, max_features=log2, n_estimators=12; total time=   0.1s\n",
      "[CV] END class_weight=balanced_subsample, criterion=entropy, max_features=log2, n_estimators=13; total time=   0.1s\n",
      "[CV] END class_weight=balanced_subsample, criterion=entropy, max_features=log2, n_estimators=17; total time=   0.1s\n",
      "[CV] END class_weight=balanced_subsample, criterion=entropy, max_features=log2, n_estimators=17; total time=   0.1s\n",
      "[CV] END class_weight=balanced_subsample, criterion=entropy, max_features=log2, n_estimators=18; total time=   0.1s\n",
      "[CV] END class_weight=balanced_subsample, criterion=entropy, max_features=log2, n_estimators=18; total time=   0.1s\n"
     ]
    },
    {
     "name": "stdout",
     "output_type": "stream",
     "text": [
      "[CV] END class_weight=balanced, criterion=gini, max_features=auto, n_estimators=11; total time=   0.1s\n",
      "[CV] END class_weight=balanced, criterion=gini, max_features=auto, n_estimators=12; total time=   0.1s\n",
      "[CV] END class_weight=balanced, criterion=gini, max_features=auto, n_estimators=13; total time=   0.1s\n",
      "[CV] END class_weight=balanced, criterion=gini, max_features=auto, n_estimators=15; total time=   0.1s\n",
      "[CV] END class_weight=balanced, criterion=gini, max_features=auto, n_estimators=16; total time=   0.1s\n",
      "[CV] END class_weight=balanced, criterion=gini, max_features=auto, n_estimators=17; total time=   0.1s\n",
      "[CV] END class_weight=balanced, criterion=gini, max_features=auto, n_estimators=18; total time=   0.1s\n",
      "[CV] END class_weight=balanced, criterion=gini, max_features=sqrt, n_estimators=10; total time=   0.0s\n",
      "[CV] END class_weight=balanced, criterion=gini, max_features=sqrt, n_estimators=10; total time=   0.0s\n",
      "[CV] END class_weight=balanced, criterion=gini, max_features=sqrt, n_estimators=12; total time=   0.0s\n",
      "[CV] END class_weight=balanced, criterion=gini, max_features=sqrt, n_estimators=12; total time=   0.0s\n",
      "[CV] END class_weight=balanced, criterion=gini, max_features=sqrt, n_estimators=14; total time=   0.1s\n",
      "[CV] END class_weight=balanced, criterion=gini, max_features=sqrt, n_estimators=15; total time=   0.1s\n",
      "[CV] END class_weight=balanced, criterion=gini, max_features=sqrt, n_estimators=17; total time=   0.1s\n",
      "[CV] END class_weight=balanced, criterion=gini, max_features=sqrt, n_estimators=17; total time=   0.1s\n",
      "[CV] END class_weight=balanced, criterion=gini, max_features=sqrt, n_estimators=18; total time=   0.1s\n",
      "[CV] END class_weight=balanced, criterion=gini, max_features=sqrt, n_estimators=18; total time=   0.1s\n",
      "[CV] END class_weight=balanced, criterion=gini, max_features=log2, n_estimators=15; total time=   0.1s\n",
      "[CV] END class_weight=balanced, criterion=gini, max_features=log2, n_estimators=15; total time=   0.1s\n",
      "[CV] END class_weight=balanced, criterion=gini, max_features=log2, n_estimators=16; total time=   0.1s\n",
      "[CV] END class_weight=balanced, criterion=gini, max_features=log2, n_estimators=16; total time=   0.1s\n",
      "[CV] END class_weight=balanced, criterion=entropy, max_features=auto, n_estimators=10; total time=   0.0s\n",
      "[CV] END class_weight=balanced, criterion=entropy, max_features=auto, n_estimators=11; total time=   0.1s\n",
      "[CV] END class_weight=balanced, criterion=entropy, max_features=auto, n_estimators=11; total time=   0.0s\n",
      "[CV] END class_weight=balanced, criterion=entropy, max_features=auto, n_estimators=11; total time=   0.0s\n",
      "[CV] END class_weight=balanced, criterion=entropy, max_features=auto, n_estimators=14; total time=   0.1s\n",
      "[CV] END class_weight=balanced, criterion=entropy, max_features=auto, n_estimators=15; total time=   0.1s\n",
      "[CV] END class_weight=balanced, criterion=entropy, max_features=auto, n_estimators=15; total time=   0.1s\n",
      "[CV] END class_weight=balanced, criterion=entropy, max_features=auto, n_estimators=15; total time=   0.1s\n",
      "[CV] END class_weight=balanced, criterion=entropy, max_features=sqrt, n_estimators=10; total time=   0.0s\n",
      "[CV] END class_weight=balanced, criterion=entropy, max_features=sqrt, n_estimators=10; total time=   0.0s\n",
      "[CV] END class_weight=balanced, criterion=entropy, max_features=sqrt, n_estimators=10; total time=   0.0s\n",
      "[CV] END class_weight=balanced, criterion=entropy, max_features=sqrt, n_estimators=11; total time=   0.1s\n",
      "[CV] END class_weight=balanced, criterion=entropy, max_features=sqrt, n_estimators=14; total time=   0.1s\n",
      "[CV] END class_weight=balanced, criterion=entropy, max_features=sqrt, n_estimators=14; total time=   0.1s\n",
      "[CV] END class_weight=balanced, criterion=entropy, max_features=sqrt, n_estimators=14; total time=   0.1s\n",
      "[CV] END class_weight=balanced, criterion=entropy, max_features=sqrt, n_estimators=15; total time=   0.1s\n",
      "[CV] END class_weight=balanced, criterion=entropy, max_features=sqrt, n_estimators=19; total time=   0.1s\n",
      "[CV] END class_weight=balanced, criterion=entropy, max_features=sqrt, n_estimators=19; total time=   0.1s\n",
      "[CV] END class_weight=balanced, criterion=entropy, max_features=log2, n_estimators=10; total time=   0.0s\n",
      "[CV] END class_weight=balanced, criterion=entropy, max_features=log2, n_estimators=10; total time=   0.1s\n",
      "[CV] END class_weight=balanced, criterion=entropy, max_features=log2, n_estimators=16; total time=   0.1s\n",
      "[CV] END class_weight=balanced, criterion=entropy, max_features=log2, n_estimators=16; total time=   0.1s\n",
      "[CV] END class_weight=balanced, criterion=entropy, max_features=log2, n_estimators=16; total time=   0.1s\n",
      "[CV] END class_weight=balanced, criterion=entropy, max_features=log2, n_estimators=17; total time=   0.1s\n",
      "[CV] END class_weight=balanced_subsample, criterion=gini, max_features=auto, n_estimators=11; total time=   0.1s\n",
      "[CV] END class_weight=balanced_subsample, criterion=gini, max_features=auto, n_estimators=11; total time=   0.1s\n",
      "[CV] END class_weight=balanced_subsample, criterion=gini, max_features=auto, n_estimators=12; total time=   0.1s\n",
      "[CV] END class_weight=balanced_subsample, criterion=gini, max_features=auto, n_estimators=12; total time=   0.1s\n",
      "[CV] END class_weight=balanced_subsample, criterion=gini, max_features=auto, n_estimators=15; total time=   0.1s\n",
      "[CV] END class_weight=balanced_subsample, criterion=gini, max_features=auto, n_estimators=15; total time=   0.1s\n",
      "[CV] END class_weight=balanced_subsample, criterion=gini, max_features=auto, n_estimators=16; total time=   0.1s\n",
      "[CV] END class_weight=balanced_subsample, criterion=gini, max_features=auto, n_estimators=16; total time=   0.1s\n",
      "[CV] END class_weight=balanced_subsample, criterion=gini, max_features=sqrt, n_estimators=10; total time=   0.1s\n",
      "[CV] END class_weight=balanced_subsample, criterion=gini, max_features=sqrt, n_estimators=11; total time=   0.1s\n",
      "[CV] END class_weight=balanced_subsample, criterion=gini, max_features=sqrt, n_estimators=11; total time=   0.1s\n",
      "[CV] END class_weight=balanced_subsample, criterion=gini, max_features=sqrt, n_estimators=11; total time=   0.1s\n",
      "[CV] END class_weight=balanced_subsample, criterion=gini, max_features=sqrt, n_estimators=14; total time=   0.1s\n",
      "[CV] END class_weight=balanced_subsample, criterion=gini, max_features=sqrt, n_estimators=15; total time=   0.1s\n",
      "[CV] END class_weight=balanced_subsample, criterion=gini, max_features=sqrt, n_estimators=15; total time=   0.1s\n",
      "[CV] END class_weight=balanced_subsample, criterion=gini, max_features=sqrt, n_estimators=15; total time=   0.1s\n",
      "[CV] END class_weight=balanced_subsample, criterion=gini, max_features=log2, n_estimators=10; total time=   0.1s\n",
      "[CV] END class_weight=balanced_subsample, criterion=gini, max_features=log2, n_estimators=10; total time=   0.1s\n",
      "[CV] END class_weight=balanced_subsample, criterion=gini, max_features=log2, n_estimators=10; total time=   0.1s\n",
      "[CV] END class_weight=balanced_subsample, criterion=gini, max_features=log2, n_estimators=11; total time=   0.1s\n",
      "[CV] END class_weight=balanced_subsample, criterion=gini, max_features=log2, n_estimators=14; total time=   0.1s\n",
      "[CV] END class_weight=balanced_subsample, criterion=gini, max_features=log2, n_estimators=14; total time=   0.1s\n",
      "[CV] END class_weight=balanced_subsample, criterion=gini, max_features=log2, n_estimators=14; total time=   0.1s\n",
      "[CV] END class_weight=balanced_subsample, criterion=gini, max_features=log2, n_estimators=15; total time=   0.1s\n",
      "[CV] END class_weight=balanced_subsample, criterion=gini, max_features=log2, n_estimators=19; total time=   0.1s\n",
      "[CV] END class_weight=balanced_subsample, criterion=gini, max_features=log2, n_estimators=19; total time=   0.1s\n",
      "[CV] END class_weight=balanced_subsample, criterion=entropy, max_features=auto, n_estimators=10; total time=   0.1s\n",
      "[CV] END class_weight=balanced_subsample, criterion=entropy, max_features=auto, n_estimators=10; total time=   0.1s\n",
      "[CV] END class_weight=balanced_subsample, criterion=entropy, max_features=auto, n_estimators=16; total time=   0.1s\n",
      "[CV] END class_weight=balanced_subsample, criterion=entropy, max_features=auto, n_estimators=16; total time=   0.1s\n",
      "[CV] END class_weight=balanced_subsample, criterion=entropy, max_features=auto, n_estimators=16; total time=   0.1s\n",
      "[CV] END class_weight=balanced_subsample, criterion=entropy, max_features=auto, n_estimators=17; total time=   0.1s\n",
      "[CV] END class_weight=balanced_subsample, criterion=entropy, max_features=sqrt, n_estimators=11; total time=   0.1s\n",
      "[CV] END class_weight=balanced_subsample, criterion=entropy, max_features=sqrt, n_estimators=11; total time=   0.1s\n",
      "[CV] END class_weight=balanced_subsample, criterion=entropy, max_features=sqrt, n_estimators=12; total time=   0.1s\n",
      "[CV] END class_weight=balanced_subsample, criterion=entropy, max_features=sqrt, n_estimators=12; total time=   0.1s\n",
      "[CV] END class_weight=balanced_subsample, criterion=entropy, max_features=sqrt, n_estimators=15; total time=   0.1s\n",
      "[CV] END class_weight=balanced_subsample, criterion=entropy, max_features=sqrt, n_estimators=15; total time=   0.1s\n",
      "[CV] END class_weight=balanced_subsample, criterion=entropy, max_features=sqrt, n_estimators=16; total time=   0.1s\n",
      "[CV] END class_weight=balanced_subsample, criterion=entropy, max_features=sqrt, n_estimators=16; total time=   0.1s\n",
      "[CV] END class_weight=balanced_subsample, criterion=entropy, max_features=log2, n_estimators=10; total time=   0.1s\n",
      "[CV] END class_weight=balanced_subsample, criterion=entropy, max_features=log2, n_estimators=11; total time=   0.1s\n",
      "[CV] END class_weight=balanced_subsample, criterion=entropy, max_features=log2, n_estimators=11; total time=   0.1s\n",
      "[CV] END class_weight=balanced_subsample, criterion=entropy, max_features=log2, n_estimators=11; total time=   0.1s\n",
      "[CV] END class_weight=balanced_subsample, criterion=entropy, max_features=log2, n_estimators=16; total time=   0.1s\n",
      "[CV] END class_weight=balanced_subsample, criterion=entropy, max_features=log2, n_estimators=16; total time=   0.1s\n",
      "[CV] END class_weight=balanced_subsample, criterion=entropy, max_features=log2, n_estimators=16; total time=   0.1s\n",
      "[CV] END class_weight=balanced_subsample, criterion=entropy, max_features=log2, n_estimators=17; total time=   0.1s\n",
      "[CV] END class_weight=balanced_subsample, criterion=entropy, max_features=log2, n_estimators=19; total time=   0.1s\n"
     ]
    }
   ],
   "source": [
    "print(model_list[2]['metrics'])"
   ]
  },
  {
   "cell_type": "code",
   "execution_count": null,
   "metadata": {},
   "outputs": [],
   "source": []
  }
 ],
 "metadata": {
  "kernelspec": {
   "display_name": "Python 3 (ipykernel)",
   "language": "python",
   "name": "python3"
  },
  "language_info": {
   "codemirror_mode": {
    "name": "ipython",
    "version": 3
   },
   "file_extension": ".py",
   "mimetype": "text/x-python",
   "name": "python",
   "nbconvert_exporter": "python",
   "pygments_lexer": "ipython3",
   "version": "3.9.7"
  }
 },
 "nbformat": 4,
 "nbformat_minor": 4
}
