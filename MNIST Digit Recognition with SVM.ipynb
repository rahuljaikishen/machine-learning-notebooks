{
  "cells": [
    {
      "cell_type": "markdown",
      "source": [
        "\n",
        "## MNIST digit classification\n"
      ],
      "metadata": {
        "id": "RxR286vc9NoU"
      }
    },
    {
      "cell_type": "code",
      "execution_count": null,
      "metadata": {
        "id": "BLhjuPulzXtG"
      },
      "outputs": [],
      "source": [
        "import numpy as np\n",
        "import pandas as pd\n",
        "import os\n",
        "import matplotlib.pyplot as plt\n",
        "from sklearn.ensemble import IsolationForest\n",
        "from sklearn.svm import SVC\n",
        "from sklearn.metrics import classification_report, ConfusionMatrixDisplay, confusion_matrix\n",
        "from sklearn.model_selection import train_test_split\n",
        "from random import randint\n",
        "from sklearn.decomposition import PCA\n",
        "from sklearn.preprocessing import StandardScaler\n",
        "import plotly.express as px\n",
        "from sklearn.pipeline import Pipeline\n",
        "from sklearn.model_selection import GridSearchCV"
      ]
    },
    {
      "cell_type": "markdown",
      "source": [
        "Reading Mnist Small data set from google colab sample data sets"
      ],
      "metadata": {
        "id": "e_TWsgsq9E1Q"
      }
    },
    {
      "cell_type": "code",
      "execution_count": null,
      "metadata": {
        "id": "0hxnzXhO1Q7Q"
      },
      "outputs": [],
      "source": [
        "data = pd.read_csv(\"sample_data/mnist_train_small.csv\")"
      ]
    },
    {
      "cell_type": "code",
      "execution_count": null,
      "metadata": {
        "colab": {
          "base_uri": "https://localhost:8080/"
        },
        "id": "M9Y0-30z1U4-",
        "outputId": "f2869dae-440d-41f0-da9e-9eeee36f4ead"
      },
      "outputs": [
        {
          "output_type": "execute_result",
          "data": {
            "text/plain": [
              "(19999, 785)"
            ]
          },
          "metadata": {},
          "execution_count": 3
        }
      ],
      "source": [
        "data.shape"
      ]
    },
    {
      "cell_type": "code",
      "execution_count": null,
      "metadata": {
        "colab": {
          "base_uri": "https://localhost:8080/",
          "height": 236
        },
        "id": "K5Gwo9eY1X0h",
        "outputId": "5a700df8-d3a6-46d4-e7e8-3930097834eb"
      },
      "outputs": [
        {
          "output_type": "execute_result",
          "data": {
            "text/plain": [
              "   6  0  0.1  0.2  0.3  0.4  0.5  0.6  0.7  0.8  ...  0.581  0.582  0.583  \\\n",
              "0  5  0    0    0    0    0    0    0    0    0  ...      0      0      0   \n",
              "1  7  0    0    0    0    0    0    0    0    0  ...      0      0      0   \n",
              "2  9  0    0    0    0    0    0    0    0    0  ...      0      0      0   \n",
              "3  5  0    0    0    0    0    0    0    0    0  ...      0      0      0   \n",
              "4  2  0    0    0    0    0    0    0    0    0  ...      0      0      0   \n",
              "\n",
              "   0.584  0.585  0.586  0.587  0.588  0.589  0.590  \n",
              "0      0      0      0      0      0      0      0  \n",
              "1      0      0      0      0      0      0      0  \n",
              "2      0      0      0      0      0      0      0  \n",
              "3      0      0      0      0      0      0      0  \n",
              "4      0      0      0      0      0      0      0  \n",
              "\n",
              "[5 rows x 785 columns]"
            ],
            "text/html": [
              "\n",
              "  <div id=\"df-1d7e2e75-068f-4490-a9cc-5adb138403d5\">\n",
              "    <div class=\"colab-df-container\">\n",
              "      <div>\n",
              "<style scoped>\n",
              "    .dataframe tbody tr th:only-of-type {\n",
              "        vertical-align: middle;\n",
              "    }\n",
              "\n",
              "    .dataframe tbody tr th {\n",
              "        vertical-align: top;\n",
              "    }\n",
              "\n",
              "    .dataframe thead th {\n",
              "        text-align: right;\n",
              "    }\n",
              "</style>\n",
              "<table border=\"1\" class=\"dataframe\">\n",
              "  <thead>\n",
              "    <tr style=\"text-align: right;\">\n",
              "      <th></th>\n",
              "      <th>6</th>\n",
              "      <th>0</th>\n",
              "      <th>0.1</th>\n",
              "      <th>0.2</th>\n",
              "      <th>0.3</th>\n",
              "      <th>0.4</th>\n",
              "      <th>0.5</th>\n",
              "      <th>0.6</th>\n",
              "      <th>0.7</th>\n",
              "      <th>0.8</th>\n",
              "      <th>...</th>\n",
              "      <th>0.581</th>\n",
              "      <th>0.582</th>\n",
              "      <th>0.583</th>\n",
              "      <th>0.584</th>\n",
              "      <th>0.585</th>\n",
              "      <th>0.586</th>\n",
              "      <th>0.587</th>\n",
              "      <th>0.588</th>\n",
              "      <th>0.589</th>\n",
              "      <th>0.590</th>\n",
              "    </tr>\n",
              "  </thead>\n",
              "  <tbody>\n",
              "    <tr>\n",
              "      <th>0</th>\n",
              "      <td>5</td>\n",
              "      <td>0</td>\n",
              "      <td>0</td>\n",
              "      <td>0</td>\n",
              "      <td>0</td>\n",
              "      <td>0</td>\n",
              "      <td>0</td>\n",
              "      <td>0</td>\n",
              "      <td>0</td>\n",
              "      <td>0</td>\n",
              "      <td>...</td>\n",
              "      <td>0</td>\n",
              "      <td>0</td>\n",
              "      <td>0</td>\n",
              "      <td>0</td>\n",
              "      <td>0</td>\n",
              "      <td>0</td>\n",
              "      <td>0</td>\n",
              "      <td>0</td>\n",
              "      <td>0</td>\n",
              "      <td>0</td>\n",
              "    </tr>\n",
              "    <tr>\n",
              "      <th>1</th>\n",
              "      <td>7</td>\n",
              "      <td>0</td>\n",
              "      <td>0</td>\n",
              "      <td>0</td>\n",
              "      <td>0</td>\n",
              "      <td>0</td>\n",
              "      <td>0</td>\n",
              "      <td>0</td>\n",
              "      <td>0</td>\n",
              "      <td>0</td>\n",
              "      <td>...</td>\n",
              "      <td>0</td>\n",
              "      <td>0</td>\n",
              "      <td>0</td>\n",
              "      <td>0</td>\n",
              "      <td>0</td>\n",
              "      <td>0</td>\n",
              "      <td>0</td>\n",
              "      <td>0</td>\n",
              "      <td>0</td>\n",
              "      <td>0</td>\n",
              "    </tr>\n",
              "    <tr>\n",
              "      <th>2</th>\n",
              "      <td>9</td>\n",
              "      <td>0</td>\n",
              "      <td>0</td>\n",
              "      <td>0</td>\n",
              "      <td>0</td>\n",
              "      <td>0</td>\n",
              "      <td>0</td>\n",
              "      <td>0</td>\n",
              "      <td>0</td>\n",
              "      <td>0</td>\n",
              "      <td>...</td>\n",
              "      <td>0</td>\n",
              "      <td>0</td>\n",
              "      <td>0</td>\n",
              "      <td>0</td>\n",
              "      <td>0</td>\n",
              "      <td>0</td>\n",
              "      <td>0</td>\n",
              "      <td>0</td>\n",
              "      <td>0</td>\n",
              "      <td>0</td>\n",
              "    </tr>\n",
              "    <tr>\n",
              "      <th>3</th>\n",
              "      <td>5</td>\n",
              "      <td>0</td>\n",
              "      <td>0</td>\n",
              "      <td>0</td>\n",
              "      <td>0</td>\n",
              "      <td>0</td>\n",
              "      <td>0</td>\n",
              "      <td>0</td>\n",
              "      <td>0</td>\n",
              "      <td>0</td>\n",
              "      <td>...</td>\n",
              "      <td>0</td>\n",
              "      <td>0</td>\n",
              "      <td>0</td>\n",
              "      <td>0</td>\n",
              "      <td>0</td>\n",
              "      <td>0</td>\n",
              "      <td>0</td>\n",
              "      <td>0</td>\n",
              "      <td>0</td>\n",
              "      <td>0</td>\n",
              "    </tr>\n",
              "    <tr>\n",
              "      <th>4</th>\n",
              "      <td>2</td>\n",
              "      <td>0</td>\n",
              "      <td>0</td>\n",
              "      <td>0</td>\n",
              "      <td>0</td>\n",
              "      <td>0</td>\n",
              "      <td>0</td>\n",
              "      <td>0</td>\n",
              "      <td>0</td>\n",
              "      <td>0</td>\n",
              "      <td>...</td>\n",
              "      <td>0</td>\n",
              "      <td>0</td>\n",
              "      <td>0</td>\n",
              "      <td>0</td>\n",
              "      <td>0</td>\n",
              "      <td>0</td>\n",
              "      <td>0</td>\n",
              "      <td>0</td>\n",
              "      <td>0</td>\n",
              "      <td>0</td>\n",
              "    </tr>\n",
              "  </tbody>\n",
              "</table>\n",
              "<p>5 rows × 785 columns</p>\n",
              "</div>\n",
              "      <button class=\"colab-df-convert\" onclick=\"convertToInteractive('df-1d7e2e75-068f-4490-a9cc-5adb138403d5')\"\n",
              "              title=\"Convert this dataframe to an interactive table.\"\n",
              "              style=\"display:none;\">\n",
              "        \n",
              "  <svg xmlns=\"http://www.w3.org/2000/svg\" height=\"24px\"viewBox=\"0 0 24 24\"\n",
              "       width=\"24px\">\n",
              "    <path d=\"M0 0h24v24H0V0z\" fill=\"none\"/>\n",
              "    <path d=\"M18.56 5.44l.94 2.06.94-2.06 2.06-.94-2.06-.94-.94-2.06-.94 2.06-2.06.94zm-11 1L8.5 8.5l.94-2.06 2.06-.94-2.06-.94L8.5 2.5l-.94 2.06-2.06.94zm10 10l.94 2.06.94-2.06 2.06-.94-2.06-.94-.94-2.06-.94 2.06-2.06.94z\"/><path d=\"M17.41 7.96l-1.37-1.37c-.4-.4-.92-.59-1.43-.59-.52 0-1.04.2-1.43.59L10.3 9.45l-7.72 7.72c-.78.78-.78 2.05 0 2.83L4 21.41c.39.39.9.59 1.41.59.51 0 1.02-.2 1.41-.59l7.78-7.78 2.81-2.81c.8-.78.8-2.07 0-2.86zM5.41 20L4 18.59l7.72-7.72 1.47 1.35L5.41 20z\"/>\n",
              "  </svg>\n",
              "      </button>\n",
              "      \n",
              "  <style>\n",
              "    .colab-df-container {\n",
              "      display:flex;\n",
              "      flex-wrap:wrap;\n",
              "      gap: 12px;\n",
              "    }\n",
              "\n",
              "    .colab-df-convert {\n",
              "      background-color: #E8F0FE;\n",
              "      border: none;\n",
              "      border-radius: 50%;\n",
              "      cursor: pointer;\n",
              "      display: none;\n",
              "      fill: #1967D2;\n",
              "      height: 32px;\n",
              "      padding: 0 0 0 0;\n",
              "      width: 32px;\n",
              "    }\n",
              "\n",
              "    .colab-df-convert:hover {\n",
              "      background-color: #E2EBFA;\n",
              "      box-shadow: 0px 1px 2px rgba(60, 64, 67, 0.3), 0px 1px 3px 1px rgba(60, 64, 67, 0.15);\n",
              "      fill: #174EA6;\n",
              "    }\n",
              "\n",
              "    [theme=dark] .colab-df-convert {\n",
              "      background-color: #3B4455;\n",
              "      fill: #D2E3FC;\n",
              "    }\n",
              "\n",
              "    [theme=dark] .colab-df-convert:hover {\n",
              "      background-color: #434B5C;\n",
              "      box-shadow: 0px 1px 3px 1px rgba(0, 0, 0, 0.15);\n",
              "      filter: drop-shadow(0px 1px 2px rgba(0, 0, 0, 0.3));\n",
              "      fill: #FFFFFF;\n",
              "    }\n",
              "  </style>\n",
              "\n",
              "      <script>\n",
              "        const buttonEl =\n",
              "          document.querySelector('#df-1d7e2e75-068f-4490-a9cc-5adb138403d5 button.colab-df-convert');\n",
              "        buttonEl.style.display =\n",
              "          google.colab.kernel.accessAllowed ? 'block' : 'none';\n",
              "\n",
              "        async function convertToInteractive(key) {\n",
              "          const element = document.querySelector('#df-1d7e2e75-068f-4490-a9cc-5adb138403d5');\n",
              "          const dataTable =\n",
              "            await google.colab.kernel.invokeFunction('convertToInteractive',\n",
              "                                                     [key], {});\n",
              "          if (!dataTable) return;\n",
              "\n",
              "          const docLinkHtml = 'Like what you see? Visit the ' +\n",
              "            '<a target=\"_blank\" href=https://colab.research.google.com/notebooks/data_table.ipynb>data table notebook</a>'\n",
              "            + ' to learn more about interactive tables.';\n",
              "          element.innerHTML = '';\n",
              "          dataTable['output_type'] = 'display_data';\n",
              "          await google.colab.output.renderOutput(dataTable, element);\n",
              "          const docLink = document.createElement('div');\n",
              "          docLink.innerHTML = docLinkHtml;\n",
              "          element.appendChild(docLink);\n",
              "        }\n",
              "      </script>\n",
              "    </div>\n",
              "  </div>\n",
              "  "
            ]
          },
          "metadata": {},
          "execution_count": 4
        }
      ],
      "source": [
        "data.head()"
      ]
    },
    {
      "cell_type": "code",
      "execution_count": null,
      "metadata": {
        "id": "zFRjy3pm1cNN"
      },
      "outputs": [],
      "source": [
        "def show_image(pixels, label, axis):\n",
        "    img = np.array(pixels).reshape((28,28))\n",
        "    axis.set_title(label)\n",
        "    img = axis.imshow(img, cmap='gray')\n",
        "    return img\n",
        "\n",
        "def show_random_data(dataset, target, no_of_images, no_of_rows):\n",
        "  plot_image = 0\n",
        "  fig, ax = plt.subplots(no_of_rows, 5, figsize=(20, 10))\n",
        "  while(plot_image < no_of_images):\n",
        "    image_no = randint(0,dataset.shape[0])\n",
        "    show_image(data.iloc[image_no][0:], target.iloc[image_no],ax[int(plot_image/5)][int(plot_image%5)])\n",
        "    plot_image = plot_image + 1\n",
        "  plt.show()"
      ]
    },
    {
      "cell_type": "markdown",
      "source": [
        "Identifying the targer variable and removing it from the data set"
      ],
      "metadata": {
        "id": "x_x2QnsR9uvg"
      }
    },
    {
      "cell_type": "code",
      "execution_count": null,
      "metadata": {
        "id": "b0Mu5QQ24JN2"
      },
      "outputs": [],
      "source": [
        "target = data.iloc[:,0]\n",
        "data = data.drop(data.columns[0],axis=1)"
      ]
    },
    {
      "cell_type": "markdown",
      "source": [
        "# Image Visualization\n",
        "Plotting images from the dataset. Variable no_of_images can be changed keeping in mind the minimum number of rows required in the subplots"
      ],
      "metadata": {
        "id": "XXMwlV3890_C"
      }
    },
    {
      "cell_type": "code",
      "execution_count": null,
      "metadata": {
        "colab": {
          "base_uri": "https://localhost:8080/",
          "height": 607
        },
        "id": "EzjkDA7V1wlB",
        "outputId": "300c1f2a-faa9-4ba2-9cde-14424a9eae54"
      },
      "outputs": [
        {
          "output_type": "display_data",
          "data": {
            "text/plain": [
              "<Figure size 1440x720 with 15 Axes>"
            ],
            "image/png": "[encoded data removed]"
          },
          "metadata": {
            "needs_background": "light"
          }
        }
      ],
      "source": [
        "show_random_data(data,target,15,3)"
      ]
    },
    {
      "cell_type": "markdown",
      "source": [
        "# Outliers Detection"
      ],
      "metadata": {
        "id": "QG5RJNfdH1qG"
      }
    },
    {
      "cell_type": "code",
      "execution_count": null,
      "metadata": {
        "colab": {
          "base_uri": "https://localhost:8080/"
        },
        "id": "sTgoyJZZ2qxj",
        "outputId": "b60de114-224f-4e6c-a2e7-6c30e94cb263"
      },
      "outputs": [
        {
          "output_type": "stream",
          "name": "stderr",
          "text": [
            "/usr/local/lib/python3.7/dist-packages/sklearn/base.py:451: UserWarning: X does not have valid feature names, but IsolationForest was fitted with feature names\n",
            "  \"X does not have valid feature names, but\"\n"
          ]
        }
      ],
      "source": [
        "clf = IsolationForest(random_state=42, contamination=0.01).fit(data)"
      ]
    },
    {
      "cell_type": "markdown",
      "source": [
        "Visualizing outliers"
      ],
      "metadata": {
        "id": "jxYN1pgkId4J"
      }
    },
    {
      "cell_type": "code",
      "source": [
        "normal = clf.predict(data) == 1"
      ],
      "metadata": {
        "id": "ry0ZDl-ILi6O"
      },
      "execution_count": null,
      "outputs": []
    },
    {
      "cell_type": "code",
      "source": [
        "show_random_data(data[normal == False],target[normal == False],9,2)"
      ],
      "metadata": {
        "colab": {
          "base_uri": "https://localhost:8080/",
          "height": 580
        },
        "id": "f_gbbIaFH78u",
        "outputId": "f56e6cf6-3d1e-462c-c78d-c6796169ab89"
      },
      "execution_count": null,
      "outputs": [
        {
          "output_type": "display_data",
          "data": {
            "text/plain": [
              "<Figure size 1440x720 with 10 Axes>"
            ],
            "image/png": "[encoded data removed]"
          },
          "metadata": {
            "needs_background": "light"
          }
        }
      ]
    },
    {
      "cell_type": "code",
      "source": [
        "print(\"Removing \",len(data[normal == False]),' rows from the dataset')"
      ],
      "metadata": {
        "colab": {
          "base_uri": "https://localhost:8080/"
        },
        "id": "vU-RVWBkIxp-",
        "outputId": "827c9cdf-8b54-4c30-adcf-f517c018a974"
      },
      "execution_count": null,
      "outputs": [
        {
          "output_type": "stream",
          "name": "stdout",
          "text": [
            "Removing  200  rows from the dataset\n"
          ]
        }
      ]
    },
    {
      "cell_type": "code",
      "execution_count": null,
      "metadata": {
        "id": "P61CwQ-H36KC"
      },
      "outputs": [],
      "source": [
        "data_cleaned = data[normal]\n",
        "target_cleaned = target[normal]"
      ]
    },
    {
      "cell_type": "markdown",
      "source": [
        "# Dimensionality reduction"
      ],
      "metadata": {
        "id": "-u2z_edVJHIu"
      }
    },
    {
      "cell_type": "code",
      "source": [
        "scaler = StandardScaler()\n",
        "data_scaled = scaler.fit_transform(data)"
      ],
      "metadata": {
        "id": "xrNYTiyVJKtP"
      },
      "execution_count": null,
      "outputs": []
    },
    {
      "cell_type": "code",
      "source": [
        "pca = PCA()\n",
        "pca.fit(data_scaled)"
      ],
      "metadata": {
        "colab": {
          "base_uri": "https://localhost:8080/"
        },
        "id": "MiX3x2ttJL6n",
        "outputId": "b5df838d-c8f5-4fed-8b11-2759979cb7df"
      },
      "execution_count": null,
      "outputs": [
        {
          "output_type": "execute_result",
          "data": {
            "text/plain": [
              "PCA()"
            ]
          },
          "metadata": {},
          "execution_count": 16
        }
      ]
    },
    {
      "cell_type": "code",
      "source": [
        "features = [i for i in range(1,785)]\n",
        "explained_rations = [r for r in np.cumsum(pca.explained_variance_ratio_)]\n",
        "px.area(x=features, y=explained_rations)"
      ],
      "metadata": {
        "colab": {
          "base_uri": "https://localhost:8080/",
          "height": 542
        },
        "id": "UdlDDcrHJPX3",
        "outputId": "dde6e80a-e260-4b9f-ed38-cfc1f53038d4"
      },
      "execution_count": null,
      "outputs": [
        {
          "output_type": "display_data",
          "data": {
            "text/html": [
              "<html>\n",
              "<head><meta charset=\"utf-8\" /></head>\n",
              "<body>\n",
              "    <div>            <script src=\"https://cdnjs.cloudflare.com/ajax/libs/mathjax/2.7.5/MathJax.js?config=TeX-AMS-MML_SVG\"></script><script type=\"text/javascript\">if (window.MathJax) {MathJax.Hub.Config({SVG: {font: \"STIX-Web\"}});}</script>                <script type=\"text/javascript\">window.PlotlyConfig = {MathJaxConfig: 'local'};</script>\n",
              "        <script src=\"https://cdn.plot.ly/plotly-2.8.3.min.js\"></script>                <div id=\"9218cf0f-6311-4d83-9f9d-5d31363dfc19\" class=\"plotly-graph-div\" style=\"height:525px; width:100%;\"></div>            <script type=\"text/javascript\">                                    window.PLOTLYENV=window.PLOTLYENV || {};                                    if (document.getElementById(\"9218cf0f-6311-4d83-9f9d-5d31363dfc19\")) {                    Plotly.newPlot(                        \"9218cf0f-6311-4d83-9f9d-5d31363dfc19\",                        [{\"hovertemplate\":\"x=%{x}<br>y=%{y}<extra></extra>\",\"legendgroup\":\"\",\"line\":{\"color\":\"#636efa\"},\"marker\":{\"symbol\":\"circle\"},\"mode\":\"lines\",\"name\":\"\",\"orientation\":\"v\",\"showlegend\":false,\"stackgroup\":\"1\",\"x\":[1,2,3,4,5,6,7,8,9,10,11,12,13,14,15,16,17,18,19,20,21,22,23,24,25,26,27,28,29,30,31,32,33,34,35,36,37,38,39,40,41,42,43,44,45,46,47,48,49,50,51,52,53,54,55,56,57,58,59,60,61,62,63,64,65,66,67,68,69,70,71,72,73,74,75,76,77,78,79,80,81,82,83,84,85,86,87,88,89,90,91,92,93,94,95,96,97,98,99,100,101,102,103,104,105,106,107,108,109,110,111,112,113,114,115,116,117,118,119,120,121,122,123,124,125,126,127,128,129,130,131,132,133,134,135,136,137,138,139,140,141,142,143,144,145,146,147,148,149,150,151,152,153,154,155,156,157,158,159,160,161,162,163,164,165,166,167,168,169,170,171,172,173,174,175,176,177,178,179,180,181,182,183,184,185,186,187,188,189,190,191,192,193,194,195,196,197,198,199,200,201,202,203,204,205,206,207,208,209,210,211,212,213,214,215,216,217,218,219,220,221,222,223,224,225,226,227,228,229,230,231,232,233,234,235,236,237,238,239,240,241,242,243,244,245,246,247,248,249,250,251,252,253,254,255,256,257,258,259,260,261,262,263,264,265,266,267,268,269,270,271,272,273,274,275,276,277,278,279,280,281,282,283,284,285,286,287,288,289,290,291,292,293,294,295,296,297,298,299,300,301,302,303,304,305,306,307,308,309,310,311,312,313,314,315,316,317,318,319,320,321,322,323,324,325,326,327,328,329,330,331,332,333,334,335,336,337,338,339,340,341,342,343,344,345,346,347,348,349,350,351,352,353,354,355,356,357,358,359,360,361,362,363,364,365,366,367,368,369,370,371,372,373,374,375,376,377,378,379,380,381,382,383,384,385,386,387,388,389,390,391,392,393,394,395,396,397,398,399,400,401,402,403,404,405,406,407,408,409,410,411,412,413,414,415,416,417,418,419,420,421,422,423,424,425,426,427,428,429,430,431,432,433,434,435,436,437,438,439,440,441,442,443,444,445,446,447,448,449,450,451,452,453,454,455,456,457,458,459,460,461,462,463,464,465,466,467,468,469,470,471,472,473,474,475,476,477,478,479,480,481,482,483,484,485,486,487,488,489,490,491,492,493,494,495,496,497,498,499,500,501,502,503,504,505,506,507,508,509,510,511,512,513,514,515,516,517,518,519,520,521,522,523,524,525,526,527,528,529,530,531,532,533,534,535,536,537,538,539,540,541,542,543,544,545,546,547,548,549,550,551,552,553,554,555,556,557,558,559,560,561,562,563,564,565,566,567,568,569,570,571,572,573,574,575,576,577,578,579,580,581,582,583,584,585,586,587,588,589,590,591,592,593,594,595,596,597,598,599,600,601,602,603,604,605,606,607,608,609,610,611,612,613,614,615,616,617,618,619,620,621,622,623,624,625,626,627,628,629,630,631,632,633,634,635,636,637,638,639,640,641,642,643,644,645,646,647,648,649,650,651,652,653,654,655,656,657,658,659,660,661,662,663,664,665,666,667,668,669,670,671,672,673,674,675,676,677,678,679,680,681,682,683,684,685,686,687,688,689,690,691,692,693,694,695,696,697,698,699,700,701,702,703,704,705,706,707,708,709,710,711,712,713,714,715,716,717,718,719,720,721,722,723,724,725,726,727,728,729,730,731,732,733,734,735,736,737,738,739,740,741,742,743,744,745,746,747,748,749,750,751,752,753,754,755,756,757,758,759,760,761,762,763,764,765,766,767,768,769,770,771,772,773,774,775,776,777,778,779,780,781,782,783,784],\"xaxis\":\"x\",\"y\":[0.059020502361761526,0.10184831136145298,0.1407046223804028,0.17068601512335033,0.19644508046672293,0.2191963304655974,0.23939981722486475,0.257377386462929,0.2733689411803324,0.28779437392484014,0.3017844152748759,0.31450220484028685,0.3261969119203966,0.3376078107257321,0.34824960334810023,0.358511660065222,0.36827639331244727,0.37785929990201694,0.38702177312920766,0.39602322202869183,0.4045804124319725,0.4130205968353667,0.4210257474369208,0.428776731103681,0.4363606148691177,0.4437176660812844,0.4509312185056843,0.45785961719250334,0.464523696954363,0.4709185400385033,0.4772177726655064,0.48342159391924083,0.4895345491317417,0.4954825730104046,0.501348690426794,0.5071794190959272,0.512889205727531,0.5184442393235157,0.5238337692662293,0.5291703558673283,0.5344164951173007,0.5395592229723153,0.5445683725778615,0.5494302457011949,0.5542747080436269,0.5590671377588904,0.5637163748204823,0.5682959109195493,0.5728402213041507,0.5772438088824405,0.5815974091590482,0.5859340176181206,0.5902386416098548,0.5944042031314506,0.5984899519383634,0.6024980389910327,0.6064405243414253,0.6102930488585784,0.6140910458856623,0.6178698729448913,0.6216125945039982,0.6252852935220873,0.6288961946283613,0.6324894032399339,0.6360526340008473,0.6395480745322146,0.643001419715453,0.6463723673395856,0.649707472858149,0.6529857611539985,0.6562418627066229,0.6594498618763763,0.6626415092734985,0.6657934604415965,0.6689151444979683,0.6719768131833314,0.6749783612243951,0.6779620358149866,0.6809249072625776,0.683864796549294,0.6867825927778073,0.6896082979790419,0.6924275453948527,0.6952185928172835,0.6979995537118067,0.7007195331135029,0.7034305378814185,0.7060893383991776,0.7087090089221967,0.7113225090624754,0.7139211151961744,0.7164921648562484,0.7190088036230864,0.7214975819854285,0.7239581771019282,0.7263908038569352,0.7287720936206693,0.7311436577095175,0.7334690373226128,0.7357859242297857,0.7380877183325638,0.7403573376881456,0.7425771301223312,0.7447761836717602,0.7469597445856443,0.7491333987817085,0.7512944051914445,0.7534226930142762,0.7555281960994391,0.75761622490464,0.7596956848707771,0.761754330084163,0.7637605323676238,0.7657504417647808,0.7677089366599137,0.7696647749250993,0.7716175361771296,0.7735357591355497,0.7754403967950401,0.7773196924958122,0.7791928635979818,0.7810497957978324,0.7828841404264234,0.7847069299670653,0.7865080658924508,0.7883084671409947,0.790074476262775,0.7918079867821961,0.793536822759959,0.7952443608013766,0.7969401294554231,0.7986196364568082,0.8002784166021557,0.8019240864567257,0.8035478448263697,0.8051564377598589,0.8067493702960741,0.8083305562120104,0.8098993346851017,0.811446811970427,0.8129798259253279,0.8144945972448432,0.8160042435234071,0.8175121136826133,0.8190061140230356,0.8204955599516794,0.8219763513901184,0.8234556453179004,0.8249084717164146,0.8263575681695593,0.8277995261969434,0.8292343723370132,0.8306637375179299,0.8320838279771581,0.833495291671659,0.8349020818589028,0.836298049879934,0.8376854881958439,0.8390506454872553,0.8403966746754943,0.8417372817439185,0.8430670384498793,0.8443807950491516,0.8456830451518513,0.8469804002190006,0.8482708942776703,0.8495568489419645,0.8508311251850466,0.8520979361858005,0.8533595137300755,0.8546124092924272,0.8558454276324493,0.8570623316353634,0.8582745882952524,0.8594754398804917,0.8606673466152516,0.8618454249682213,0.8630092175754424,0.8641560752408094,0.8652961108476126,0.8664336223443916,0.867548486968263,0.868651985270879,0.8697544766340519,0.8708447923319897,0.8719275697628127,0.8729918292026285,0.8740474970224662,0.8751013409382686,0.8761443316334662,0.8771761586744645,0.8781932644254815,0.8791992739951867,0.8801947522043415,0.8811854180069075,0.8821664845811632,0.8831415363892112,0.8840992381581537,0.8850549302349534,0.8859942987087975,0.8869290584471093,0.8878590064520341,0.888781499418826,0.8897005716350695,0.8906024912017542,0.8914968700080078,0.8923866607482609,0.8932672049005483,0.8941369723768594,0.8949991855770763,0.8958558665446945,0.8967027267298111,0.8975438176618318,0.8983830884806661,0.8992173122784312,0.9000360629481882,0.9008455412981466,0.9016493585249565,0.9024497233072465,0.903237179336239,0.9040125332340254,0.9047850342313221,0.9055544104607055,0.906318869437301,0.9070700656329252,0.9078161418990761,0.9085523799275748,0.9092823403091592,0.9100021567454254,0.9107177147863982,0.911425752811208,0.9121213416045708,0.9128125448376159,0.9135004101630403,0.9141794553590563,0.9148541604421331,0.9155221632129007,0.9161857232706982,0.9168430001325268,0.9174934276192621,0.9181363554297743,0.9187717080301312,0.919402266629376,0.9200299557837422,0.9206421698434639,0.9212496567944606,0.9218559832207385,0.9224538699878352,0.9230452343572907,0.9236305436661609,0.9242133829586551,0.9247927851645568,0.9253628207110287,0.9259307684143506,0.9264957968059399,0.9270510342344643,0.9276010754849462,0.9281499621830661,0.9286883601804151,0.9292263288059432,0.9297608132316905,0.9302938140720695,0.9308178451241393,0.9313395419613676,0.931857885947401,0.932370620908152,0.9328801624381795,0.9333875638975766,0.9338911769835924,0.9343932111476227,0.9348895747384944,0.9353819157411267,0.935868133176888,0.9363522625254898,0.9368323410568472,0.9373045934939657,0.9377760042803599,0.938241607536526,0.9387027605476815,0.9391607795899796,0.939613992595943,0.9400646865527952,0.9405129211218339,0.940956726506431,0.9413970163547913,0.94183440158994,0.9422673409688036,0.9426974068254524,0.9431256561784351,0.9435524449059142,0.9439754220307146,0.9443942942461152,0.944809390100321,0.9452144802051106,0.9456174917105453,0.9460188446052532,0.946416852071546,0.9468133891430366,0.9472072910769456,0.947599551531873,0.9479893797388614,0.9483753785275635,0.9487592451568754,0.9491379212982733,0.9495127184972724,0.9498809683198084,0.9502489283744157,0.9506117969173429,0.9509736380588298,0.9513313140700357,0.9516870502398102,0.9520395927970762,0.9523896805568317,0.9527380243906262,0.953083000067538,0.9534263929575068,0.9537646501015432,0.9540984194881323,0.9544311800935191,0.954763722399357,0.9550920033353747,0.9554195770357377,0.9557444007973117,0.9560639941917065,0.956382343891532,0.9566976375671641,0.9570084219307549,0.9573188425973579,0.9576268733840282,0.9579331565876966,0.9582365177065515,0.9585350711630446,0.9588301944150506,0.9591245545125723,0.9594185626876076,0.9597119729466483,0.960001603647975,0.9602886074026565,0.9605713419698625,0.9608527069953363,0.9611323081842068,0.9614102850451085,0.9616857449017205,0.9619585687057001,0.9622299337399292,0.9624996205817553,0.9627672012951611,0.9630322465486556,0.9632959251826109,0.9635575410871481,0.9638171489928467,0.9640752700952344,0.964330064892947,0.9645831020144018,0.9648343214570045,0.9650848567417163,0.9653335423644075,0.9655808053923739,0.9658258557242394,0.966069001251251,0.9663100403659945,0.9665482579839884,0.9667844821013449,0.9670201440975695,0.9672546892990762,0.9674877175451385,0.9677204794620669,0.967950804012713,0.9681796938699451,0.9684078656479892,0.9686345382452332,0.9688598659674551,0.9690842369797705,0.9693047779378468,0.9695241958455243,0.9697430799788123,0.9699610433042639,0.9701785029938825,0.9703932523752498,0.9706060803623249,0.9708183604238657,0.9710302964100281,0.9712399263081655,0.971447934714468,0.9716547283177405,0.9718608168531763,0.972066084962383,0.9722707749789454,0.972473484368509,0.9726733519882882,0.9728714787928321,0.9730680153210908,0.9732634398105923,0.9734580642437028,0.9736498908292909,0.9738409765218289,0.9740306085879392,0.974219717457155,0.9744069704502317,0.9745933082381465,0.9747791364395043,0.9749628544842895,0.9751462474901639,0.9753286529568903,0.9755088169420617,0.9756883017081226,0.9758668412906707,0.9760449284515343,0.9762214772605525,0.9763974633041017,0.9765718601666862,0.9767459756431907,0.9769190404245347,0.9770903763858501,0.9772596255420494,0.9774277684891335,0.9775951932788237,0.9777618598680449,0.9779268601178599,0.9780904291676505,0.9782531792824075,0.9784154069935372,0.9785764569291059,0.9787367947568095,0.9788961895310447,0.9790551325757171,0.9792131967204689,0.9793704675649085,0.9795275363104196,0.9796820430754676,0.9798361834974573,0.9799884582341224,0.9801392729991806,0.9802892079858017,0.9804378844455943,0.9805863297850063,0.9807337402815557,0.9808802555870102,0.981026000459953,0.9811710563523042,0.9813149252976933,0.9814581549959818,0.9816004987514523,0.9817419347689262,0.9818828415817104,0.9820232054108653,0.982162760599533,0.9823020238603531,0.9824403256108051,0.9825784625715969,0.9827155601327311,0.9828517797158316,0.9829865119678649,0.9831192747060803,0.9832517410876495,0.9833838454828134,0.9835152295169765,0.9836464864425882,0.9837769783530097,0.9839068216311269,0.9840359258161916,0.9841629082787366,0.9842893877505751,0.9844150630466403,0.9845400608747842,0.9846645000147758,0.9847888060162766,0.9849118575991197,0.985034349557894,0.9851554855978704,0.9852761382894321,0.9853963698166888,0.9855158454349823,0.9856343816951826,0.9857522910231766,0.985869945337265,0.98598707698147,0.986103924832776,0.986219840010384,0.9863347253568424,0.9864487359228719,0.9865616694641741,0.9866740375486754,0.9867857060904348,0.9868967816612213,0.98700759008651,0.9871177291066678,0.9872275171107197,0.9873369041354472,0.9874450636800579,0.9875531417893757,0.9876602503214186,0.9877663386401587,0.9878719864505988,0.9879766464891306,0.988081120774107,0.9881850015838277,0.9882886310320537,0.9883920071697871,0.9884942979896016,0.9885963156464289,0.9886976935575065,0.988798340356012,0.9888985041978506,0.9889982587261881,0.989097272922137,0.989195710167751,0.9892938524930358,0.9893915221666527,0.9894881098061,0.9895845698463743,0.9896801111610971,0.9897754079039164,0.9898702334424313,0.9899641587746454,0.9900576656670583,0.9901505270525531,0.9902431136815881,0.9903352289158872,0.9904265493730147,0.9905176847631395,0.9906081187094328,0.9906982926631795,0.9907878788004246,0.9908771178229369,0.9909657645228614,0.9910537762395135,0.9911415565481763,0.9912288239220866,0.9913152860477666,0.9914016805784075,0.9914876806489765,0.9915733456798648,0.9916581214067782,0.9917427185484893,0.991826784486146,0.9919103224169022,0.9919933007004911,0.9920760794199188,0.9921585094088675,0.9922403037116192,0.9923215699977578,0.9924027699834107,0.9924827827302692,0.9925623693744094,0.9926416569367416,0.9927204860508773,0.9927989736206614,0.9928771436043599,0.9929545530180739,0.993031618859769,0.99310856514141,0.9931847501782672,0.9932607943894072,0.993336336252781,0.9934118542992967,0.9934865276138611,0.9935608371511708,0.9936349227685554,0.9937086191997541,0.9937817453461792,0.9938543721254285,0.9939261263896446,0.9939974010237391,0.994068195170562,0.9941386991006973,0.9942091696354447,0.9942790529719711,0.9943484479633167,0.9944174452952642,0.9944862752793969,0.9945548247460108,0.9946225134976796,0.994689972880644,0.994756955373252,0.9948235077980299,0.9948898092653455,0.994955504616711,0.9950209140459388,0.9950858153663753,0.9951504907430521,0.9952149582083593,0.9952786815251743,0.9953422498780028,0.9954053112071033,0.9954682208858381,0.9955307547639565,0.9955930193757204,0.9956552620199753,0.995716831368522,0.995778149171026,0.9958391703452305,0.9958991652968099,0.9959590351808607,0.9960185267664806,0.9960773703273224,0.9961358198272557,0.9961939673258329,0.9962519640195643,0.9963095739946534,0.9963668066086573,0.9964239352901308,0.9964808371738424,0.9965374205410317,0.9965938500177736,0.9966498699360029,0.9967055912592375,0.9967609872279701,0.9968161547288112,0.9968710562041093,0.9969255864449817,0.9969796021577504,0.9970334387781342,0.9970870438507926,0.9971404564954557,0.9971934959313933,0.9972456403776846,0.9972973687409367,0.9973487032705908,0.9973997252867911,0.9974502258137019,0.9975004652643917,0.9975505340565163,0.9976002377883233,0.9976494615886047,0.9976983212146449,0.997747011672268,0.9977954421620691,0.9978434509841813,0.9978914137688073,0.99793890262308,0.9979859182293893,0.9980325798784772,0.9980788834068003,0.9981249193246111,0.9981705509288552,0.9982158700245652,0.9982609133353026,0.998305786839154,0.9983501143773904,0.9983942031051412,0.9984380231897968,0.9984814090849305,0.9985245831365709,0.9985676585612266,0.9986102669034569,0.9986525881824219,0.9986945503102975,0.9987357513848983,0.9987768215858911,0.9988177076721191,0.9988580340908373,0.9988981446139976,0.9989379663676519,0.9989774750397628,0.9990168839518943,0.9990559275458339,0.9990949180163766,0.9991335972886763,0.9991719012551997,0.9992099832353841,0.99924735888487,0.9992845911590147,0.9993212941945382,0.999357975066449,0.9993938788340541,0.9994296641472854,0.9994649346123426,0.999499612469319,0.9995341349134628,0.9995685815443728,0.9996020466892157,0.9996353416323569,0.999668181510683,0.9997007292343648,0.9997327990440853,0.9997643981675046,0.9997954030061565,0.9998254906243675,0.999855215576653,0.9998843307085553,0.9999125717879199,0.9999407088171909,0.9999661448800746,0.999991116465621,0.9999967865224577,1.0000000000000007,1.0000000000000007,1.0000000000000007,1.0000000000000007,1.0000000000000007,1.0000000000000007,1.0000000000000007,1.0000000000000007,1.0000000000000007,1.0000000000000007,1.0000000000000007,1.0000000000000007,1.0000000000000007,1.0000000000000007,1.0000000000000007,1.0000000000000007,1.0000000000000007,1.0000000000000007,1.0000000000000007,1.0000000000000007,1.0000000000000007,1.0000000000000007,1.0000000000000007,1.0000000000000007,1.0000000000000007,1.0000000000000007,1.0000000000000007,1.0000000000000007,1.0000000000000007,1.0000000000000007,1.0000000000000007,1.0000000000000007,1.0000000000000007,1.0000000000000007,1.0000000000000007,1.0000000000000007,1.0000000000000007,1.0000000000000007,1.0000000000000007,1.0000000000000007,1.0000000000000007,1.0000000000000007,1.0000000000000007,1.0000000000000007,1.0000000000000007,1.0000000000000007,1.0000000000000007,1.0000000000000007,1.0000000000000007,1.0000000000000007,1.0000000000000007,1.0000000000000007,1.0000000000000007,1.0000000000000007,1.0000000000000007,1.0000000000000007,1.0000000000000007,1.0000000000000007,1.0000000000000007,1.0000000000000007,1.0000000000000007,1.0000000000000007,1.0000000000000007,1.0000000000000007,1.0000000000000007,1.0000000000000007,1.0000000000000007,1.0000000000000007,1.0000000000000007,1.0000000000000007,1.0000000000000007,1.0000000000000007,1.0000000000000007,1.0000000000000007,1.0000000000000007,1.0000000000000007,1.0000000000000007,1.0000000000000007,1.0000000000000007,1.0000000000000007,1.0000000000000007,1.0000000000000007,1.0000000000000007,1.0000000000000007,1.0000000000000007,1.0000000000000007,1.0000000000000007,1.0000000000000007,1.0000000000000007,1.0000000000000007,1.0000000000000007,1.0000000000000007,1.0000000000000007,1.0000000000000007,1.0000000000000007,1.0000000000000007,1.0000000000000007,1.0000000000000007],\"yaxis\":\"y\",\"type\":\"scatter\"}],                        {\"template\":{\"data\":{\"bar\":[{\"error_x\":{\"color\":\"#2a3f5f\"},\"error_y\":{\"color\":\"#2a3f5f\"},\"marker\":{\"line\":{\"color\":\"#E5ECF6\",\"width\":0.5},\"pattern\":{\"fillmode\":\"overlay\",\"size\":10,\"solidity\":0.2}},\"type\":\"bar\"}],\"barpolar\":[{\"marker\":{\"line\":{\"color\":\"#E5ECF6\",\"width\":0.5},\"pattern\":{\"fillmode\":\"overlay\",\"size\":10,\"solidity\":0.2}},\"type\":\"barpolar\"}],\"carpet\":[{\"aaxis\":{\"endlinecolor\":\"#2a3f5f\",\"gridcolor\":\"white\",\"linecolor\":\"white\",\"minorgridcolor\":\"white\",\"startlinecolor\":\"#2a3f5f\"},\"baxis\":{\"endlinecolor\":\"#2a3f5f\",\"gridcolor\":\"white\",\"linecolor\":\"white\",\"minorgridcolor\":\"white\",\"startlinecolor\":\"#2a3f5f\"},\"type\":\"carpet\"}],\"choropleth\":[{\"colorbar\":{\"outlinewidth\":0,\"ticks\":\"\"},\"type\":\"choropleth\"}],\"contour\":[{\"colorbar\":{\"outlinewidth\":0,\"ticks\":\"\"},\"colorscale\":[[0.0,\"#0d0887\"],[0.1111111111111111,\"#46039f\"],[0.2222222222222222,\"#7201a8\"],[0.3333333333333333,\"#9c179e\"],[0.4444444444444444,\"#bd3786\"],[0.5555555555555556,\"#d8576b\"],[0.6666666666666666,\"#ed7953\"],[0.7777777777777778,\"#fb9f3a\"],[0.8888888888888888,\"#fdca26\"],[1.0,\"#f0f921\"]],\"type\":\"contour\"}],\"contourcarpet\":[{\"colorbar\":{\"outlinewidth\":0,\"ticks\":\"\"},\"type\":\"contourcarpet\"}],\"heatmap\":[{\"colorbar\":{\"outlinewidth\":0,\"ticks\":\"\"},\"colorscale\":[[0.0,\"#0d0887\"],[0.1111111111111111,\"#46039f\"],[0.2222222222222222,\"#7201a8\"],[0.3333333333333333,\"#9c179e\"],[0.4444444444444444,\"#bd3786\"],[0.5555555555555556,\"#d8576b\"],[0.6666666666666666,\"#ed7953\"],[0.7777777777777778,\"#fb9f3a\"],[0.8888888888888888,\"#fdca26\"],[1.0,\"#f0f921\"]],\"type\":\"heatmap\"}],\"heatmapgl\":[{\"colorbar\":{\"outlinewidth\":0,\"ticks\":\"\"},\"colorscale\":[[0.0,\"#0d0887\"],[0.1111111111111111,\"#46039f\"],[0.2222222222222222,\"#7201a8\"],[0.3333333333333333,\"#9c179e\"],[0.4444444444444444,\"#bd3786\"],[0.5555555555555556,\"#d8576b\"],[0.6666666666666666,\"#ed7953\"],[0.7777777777777778,\"#fb9f3a\"],[0.8888888888888888,\"#fdca26\"],[1.0,\"#f0f921\"]],\"type\":\"heatmapgl\"}],\"histogram\":[{\"marker\":{\"pattern\":{\"fillmode\":\"overlay\",\"size\":10,\"solidity\":0.2}},\"type\":\"histogram\"}],\"histogram2d\":[{\"colorbar\":{\"outlinewidth\":0,\"ticks\":\"\"},\"colorscale\":[[0.0,\"#0d0887\"],[0.1111111111111111,\"#46039f\"],[0.2222222222222222,\"#7201a8\"],[0.3333333333333333,\"#9c179e\"],[0.4444444444444444,\"#bd3786\"],[0.5555555555555556,\"#d8576b\"],[0.6666666666666666,\"#ed7953\"],[0.7777777777777778,\"#fb9f3a\"],[0.8888888888888888,\"#fdca26\"],[1.0,\"#f0f921\"]],\"type\":\"histogram2d\"}],\"histogram2dcontour\":[{\"colorbar\":{\"outlinewidth\":0,\"ticks\":\"\"},\"colorscale\":[[0.0,\"#0d0887\"],[0.1111111111111111,\"#46039f\"],[0.2222222222222222,\"#7201a8\"],[0.3333333333333333,\"#9c179e\"],[0.4444444444444444,\"#bd3786\"],[0.5555555555555556,\"#d8576b\"],[0.6666666666666666,\"#ed7953\"],[0.7777777777777778,\"#fb9f3a\"],[0.8888888888888888,\"#fdca26\"],[1.0,\"#f0f921\"]],\"type\":\"histogram2dcontour\"}],\"mesh3d\":[{\"colorbar\":{\"outlinewidth\":0,\"ticks\":\"\"},\"type\":\"mesh3d\"}],\"parcoords\":[{\"line\":{\"colorbar\":{\"outlinewidth\":0,\"ticks\":\"\"}},\"type\":\"parcoords\"}],\"pie\":[{\"automargin\":true,\"type\":\"pie\"}],\"scatter\":[{\"marker\":{\"colorbar\":{\"outlinewidth\":0,\"ticks\":\"\"}},\"type\":\"scatter\"}],\"scatter3d\":[{\"line\":{\"colorbar\":{\"outlinewidth\":0,\"ticks\":\"\"}},\"marker\":{\"colorbar\":{\"outlinewidth\":0,\"ticks\":\"\"}},\"type\":\"scatter3d\"}],\"scattercarpet\":[{\"marker\":{\"colorbar\":{\"outlinewidth\":0,\"ticks\":\"\"}},\"type\":\"scattercarpet\"}],\"scattergeo\":[{\"marker\":{\"colorbar\":{\"outlinewidth\":0,\"ticks\":\"\"}},\"type\":\"scattergeo\"}],\"scattergl\":[{\"marker\":{\"colorbar\":{\"outlinewidth\":0,\"ticks\":\"\"}},\"type\":\"scattergl\"}],\"scattermapbox\":[{\"marker\":{\"colorbar\":{\"outlinewidth\":0,\"ticks\":\"\"}},\"type\":\"scattermapbox\"}],\"scatterpolar\":[{\"marker\":{\"colorbar\":{\"outlinewidth\":0,\"ticks\":\"\"}},\"type\":\"scatterpolar\"}],\"scatterpolargl\":[{\"marker\":{\"colorbar\":{\"outlinewidth\":0,\"ticks\":\"\"}},\"type\":\"scatterpolargl\"}],\"scatterternary\":[{\"marker\":{\"colorbar\":{\"outlinewidth\":0,\"ticks\":\"\"}},\"type\":\"scatterternary\"}],\"surface\":[{\"colorbar\":{\"outlinewidth\":0,\"ticks\":\"\"},\"colorscale\":[[0.0,\"#0d0887\"],[0.1111111111111111,\"#46039f\"],[0.2222222222222222,\"#7201a8\"],[0.3333333333333333,\"#9c179e\"],[0.4444444444444444,\"#bd3786\"],[0.5555555555555556,\"#d8576b\"],[0.6666666666666666,\"#ed7953\"],[0.7777777777777778,\"#fb9f3a\"],[0.8888888888888888,\"#fdca26\"],[1.0,\"#f0f921\"]],\"type\":\"surface\"}],\"table\":[{\"cells\":{\"fill\":{\"color\":\"#EBF0F8\"},\"line\":{\"color\":\"white\"}},\"header\":{\"fill\":{\"color\":\"#C8D4E3\"},\"line\":{\"color\":\"white\"}},\"type\":\"table\"}]},\"layout\":{\"annotationdefaults\":{\"arrowcolor\":\"#2a3f5f\",\"arrowhead\":0,\"arrowwidth\":1},\"autotypenumbers\":\"strict\",\"coloraxis\":{\"colorbar\":{\"outlinewidth\":0,\"ticks\":\"\"}},\"colorscale\":{\"diverging\":[[0,\"#8e0152\"],[0.1,\"#c51b7d\"],[0.2,\"#de77ae\"],[0.3,\"#f1b6da\"],[0.4,\"#fde0ef\"],[0.5,\"#f7f7f7\"],[0.6,\"#e6f5d0\"],[0.7,\"#b8e186\"],[0.8,\"#7fbc41\"],[0.9,\"#4d9221\"],[1,\"#276419\"]],\"sequential\":[[0.0,\"#0d0887\"],[0.1111111111111111,\"#46039f\"],[0.2222222222222222,\"#7201a8\"],[0.3333333333333333,\"#9c179e\"],[0.4444444444444444,\"#bd3786\"],[0.5555555555555556,\"#d8576b\"],[0.6666666666666666,\"#ed7953\"],[0.7777777777777778,\"#fb9f3a\"],[0.8888888888888888,\"#fdca26\"],[1.0,\"#f0f921\"]],\"sequentialminus\":[[0.0,\"#0d0887\"],[0.1111111111111111,\"#46039f\"],[0.2222222222222222,\"#7201a8\"],[0.3333333333333333,\"#9c179e\"],[0.4444444444444444,\"#bd3786\"],[0.5555555555555556,\"#d8576b\"],[0.6666666666666666,\"#ed7953\"],[0.7777777777777778,\"#fb9f3a\"],[0.8888888888888888,\"#fdca26\"],[1.0,\"#f0f921\"]]},\"colorway\":[\"#636efa\",\"#EF553B\",\"#00cc96\",\"#ab63fa\",\"#FFA15A\",\"#19d3f3\",\"#FF6692\",\"#B6E880\",\"#FF97FF\",\"#FECB52\"],\"font\":{\"color\":\"#2a3f5f\"},\"geo\":{\"bgcolor\":\"white\",\"lakecolor\":\"white\",\"landcolor\":\"#E5ECF6\",\"showlakes\":true,\"showland\":true,\"subunitcolor\":\"white\"},\"hoverlabel\":{\"align\":\"left\"},\"hovermode\":\"closest\",\"mapbox\":{\"style\":\"light\"},\"paper_bgcolor\":\"white\",\"plot_bgcolor\":\"#E5ECF6\",\"polar\":{\"angularaxis\":{\"gridcolor\":\"white\",\"linecolor\":\"white\",\"ticks\":\"\"},\"bgcolor\":\"#E5ECF6\",\"radialaxis\":{\"gridcolor\":\"white\",\"linecolor\":\"white\",\"ticks\":\"\"}},\"scene\":{\"xaxis\":{\"backgroundcolor\":\"#E5ECF6\",\"gridcolor\":\"white\",\"gridwidth\":2,\"linecolor\":\"white\",\"showbackground\":true,\"ticks\":\"\",\"zerolinecolor\":\"white\"},\"yaxis\":{\"backgroundcolor\":\"#E5ECF6\",\"gridcolor\":\"white\",\"gridwidth\":2,\"linecolor\":\"white\",\"showbackground\":true,\"ticks\":\"\",\"zerolinecolor\":\"white\"},\"zaxis\":{\"backgroundcolor\":\"#E5ECF6\",\"gridcolor\":\"white\",\"gridwidth\":2,\"linecolor\":\"white\",\"showbackground\":true,\"ticks\":\"\",\"zerolinecolor\":\"white\"}},\"shapedefaults\":{\"line\":{\"color\":\"#2a3f5f\"}},\"ternary\":{\"aaxis\":{\"gridcolor\":\"white\",\"linecolor\":\"white\",\"ticks\":\"\"},\"baxis\":{\"gridcolor\":\"white\",\"linecolor\":\"white\",\"ticks\":\"\"},\"bgcolor\":\"#E5ECF6\",\"caxis\":{\"gridcolor\":\"white\",\"linecolor\":\"white\",\"ticks\":\"\"}},\"title\":{\"x\":0.05},\"xaxis\":{\"automargin\":true,\"gridcolor\":\"white\",\"linecolor\":\"white\",\"ticks\":\"\",\"title\":{\"standoff\":15},\"zerolinecolor\":\"white\",\"zerolinewidth\":2},\"yaxis\":{\"automargin\":true,\"gridcolor\":\"white\",\"linecolor\":\"white\",\"ticks\":\"\",\"title\":{\"standoff\":15},\"zerolinecolor\":\"white\",\"zerolinewidth\":2}}},\"xaxis\":{\"anchor\":\"y\",\"domain\":[0.0,1.0],\"title\":{\"text\":\"x\"}},\"yaxis\":{\"anchor\":\"x\",\"domain\":[0.0,1.0],\"title\":{\"text\":\"y\"}},\"legend\":{\"tracegroupgap\":0},\"margin\":{\"t\":60}},                        {\"responsive\": true}                    ).then(function(){\n",
              "                            \n",
              "var gd = document.getElementById('9218cf0f-6311-4d83-9f9d-5d31363dfc19');\n",
              "var x = new MutationObserver(function (mutations, observer) {{\n",
              "        var display = window.getComputedStyle(gd).display;\n",
              "        if (!display || display === 'none') {{\n",
              "            console.log([gd, 'removed!']);\n",
              "            Plotly.purge(gd);\n",
              "            observer.disconnect();\n",
              "        }}\n",
              "}});\n",
              "\n",
              "// Listen for the removal of the full notebook cells\n",
              "var notebookContainer = gd.closest('#notebook-container');\n",
              "if (notebookContainer) {{\n",
              "    x.observe(notebookContainer, {childList: true});\n",
              "}}\n",
              "\n",
              "// Listen for the clearing of the current output cell\n",
              "var outputEl = gd.closest('.output');\n",
              "if (outputEl) {{\n",
              "    x.observe(outputEl, {childList: true});\n",
              "}}\n",
              "\n",
              "                        })                };                            </script>        </div>\n",
              "</body>\n",
              "</html>"
            ]
          },
          "metadata": {}
        }
      ]
    },
    {
      "cell_type": "code",
      "source": [
        "reduction = PCA(0.84)\n",
        "reduced_data = reduction.fit_transform(data)"
      ],
      "metadata": {
        "id": "umTqK-NAOUYd"
      },
      "execution_count": null,
      "outputs": []
    },
    {
      "cell_type": "markdown",
      "source": [
        "# Classification using SVC"
      ],
      "metadata": {
        "id": "PzD48wO_JXjt"
      }
    },
    {
      "cell_type": "code",
      "execution_count": null,
      "metadata": {
        "id": "idOxk_lF4eAI"
      },
      "outputs": [],
      "source": [
        "X_train, X_test, y_train, y_test = train_test_split(\n",
        "    reduced_data, target, test_size=0.3, shuffle=False\n",
        ")"
      ]
    },
    {
      "cell_type": "code",
      "source": [
        "param_grid = {\n",
        "    'kernel': ['rbf', 'poly', 'sigmoid'],\n",
        "    'gamma' : ['scale', 'auto']\n",
        "}\n",
        "\n",
        "#keeping cv low for quick processing\n",
        "#C=10 obtained from Hyper parameter tuning not included here due to time issues\n",
        "grid_search = GridSearchCV(\n",
        "    SVC(C=10),\n",
        "    param_grid,\n",
        "    scoring='f1_weighted',\n",
        "    verbose=2,\n",
        "    cv=2\n",
        ")"
      ],
      "metadata": {
        "id": "yDjNL-OOOry7"
      },
      "execution_count": null,
      "outputs": []
    },
    {
      "cell_type": "code",
      "execution_count": null,
      "metadata": {
        "colab": {
          "base_uri": "https://localhost:8080/"
        },
        "id": "7MVIXkBc4jF4",
        "outputId": "30b2b50c-b14f-461d-c455-dec1590966b5"
      },
      "outputs": [
        {
          "output_type": "stream",
          "name": "stdout",
          "text": [
            "Fitting 2 folds for each of 6 candidates, totalling 12 fits\n",
            "[CV] END ............................gamma=scale, kernel=rbf; total time=   3.4s\n",
            "[CV] END ............................gamma=scale, kernel=rbf; total time=   3.4s\n",
            "[CV] END ...........................gamma=scale, kernel=poly; total time=   2.3s\n",
            "[CV] END ...........................gamma=scale, kernel=poly; total time=   2.3s\n",
            "[CV] END ........................gamma=scale, kernel=sigmoid; total time=   2.0s\n",
            "[CV] END ........................gamma=scale, kernel=sigmoid; total time=   2.0s\n",
            "[CV] END .............................gamma=auto, kernel=rbf; total time=  12.3s\n",
            "[CV] END .............................gamma=auto, kernel=rbf; total time=  12.5s\n",
            "[CV] END ............................gamma=auto, kernel=poly; total time=   3.1s\n",
            "[CV] END ............................gamma=auto, kernel=poly; total time=   3.8s\n",
            "[CV] END .........................gamma=auto, kernel=sigmoid; total time=   5.2s\n",
            "[CV] END .........................gamma=auto, kernel=sigmoid; total time=   4.6s\n"
          ]
        },
        {
          "output_type": "execute_result",
          "data": {
            "text/plain": [
              "GridSearchCV(cv=2, estimator=SVC(C=10),\n",
              "             param_grid={'gamma': ['scale', 'auto'],\n",
              "                         'kernel': ['rbf', 'poly', 'sigmoid']},\n",
              "             scoring='f1_weighted', verbose=2)"
            ]
          },
          "metadata": {},
          "execution_count": 21
        }
      ],
      "source": [
        "grid_search.fit(X_train, y_train)"
      ]
    },
    {
      "cell_type": "code",
      "source": [
        "grid_search.best_params_"
      ],
      "metadata": {
        "colab": {
          "base_uri": "https://localhost:8080/"
        },
        "id": "QXx8AvYzQLjU",
        "outputId": "795c6c80-d3cb-4c77-9c40-a26d1ff9e4b1"
      },
      "execution_count": null,
      "outputs": [
        {
          "output_type": "execute_result",
          "data": {
            "text/plain": [
              "{'gamma': 'scale', 'kernel': 'rbf'}"
            ]
          },
          "metadata": {},
          "execution_count": 22
        }
      ]
    },
    {
      "cell_type": "code",
      "execution_count": null,
      "metadata": {
        "id": "tz1VwmRi6A1N"
      },
      "outputs": [],
      "source": [
        "predicted = grid_search.predict(X_test)"
      ]
    },
    {
      "cell_type": "code",
      "execution_count": null,
      "metadata": {
        "colab": {
          "base_uri": "https://localhost:8080/"
        },
        "id": "UrWMdapM4rTO",
        "outputId": "0f58f02e-ecb3-47e2-e18a-2f5806c8d743"
      },
      "outputs": [
        {
          "output_type": "stream",
          "name": "stdout",
          "text": [
            "Classification report for classifier GridSearchCV(cv=2, estimator=SVC(C=10),\n",
            "             param_grid={'gamma': ['scale', 'auto'],\n",
            "                         'kernel': ['rbf', 'poly', 'sigmoid']},\n",
            "             scoring='f1_weighted', verbose=2):\n",
            "              precision    recall  f1-score   support\n",
            "\n",
            "           0       0.98      1.00      0.99       566\n",
            "           1       0.99      0.99      0.99       704\n",
            "           2       0.98      0.98      0.98       618\n",
            "           3       0.97      0.97      0.97       594\n",
            "           4       0.97      0.97      0.97       577\n",
            "           5       0.98      0.97      0.97       528\n",
            "           6       0.98      0.99      0.99       593\n",
            "           7       0.98      0.98      0.98       642\n",
            "           8       0.97      0.97      0.97       569\n",
            "           9       0.96      0.95      0.96       609\n",
            "\n",
            "    accuracy                           0.98      6000\n",
            "   macro avg       0.98      0.98      0.98      6000\n",
            "weighted avg       0.98      0.98      0.98      6000\n",
            "\n",
            "\n"
          ]
        }
      ],
      "source": [
        "print(\n",
        "    f\"Classification report for classifier {grid_search}:\\n\"\n",
        "    f\"{classification_report(y_test, predicted)}\\n\"\n",
        ")"
      ]
    },
    {
      "cell_type": "code",
      "execution_count": null,
      "metadata": {
        "id": "zXSliQ-v79vM",
        "colab": {
          "base_uri": "https://localhost:8080/",
          "height": 325
        },
        "outputId": "62108dcb-0412-4388-9bc0-c0fa81b5a029"
      },
      "outputs": [
        {
          "output_type": "execute_result",
          "data": {
            "text/plain": [
              "Text(0.5, 0.98, 'Confusion Matrix')"
            ]
          },
          "metadata": {},
          "execution_count": 25
        },
        {
          "output_type": "display_data",
          "data": {
            "text/plain": [
              "<Figure size 432x288 with 2 Axes>"
            ],
            "image/png": "[encoded data removed]"
          },
          "metadata": {
            "needs_background": "light"
          }
        }
      ],
      "source": [
        "disp = ConfusionMatrixDisplay.from_predictions(y_test, predicted)\n",
        "disp.figure_.suptitle(\"Confusion Matrix\")"
      ]
    },
    {
      "cell_type": "markdown",
      "source": [
        "# Pipeline Creation"
      ],
      "metadata": {
        "id": "XXOcrNSsLjgm"
      }
    },
    {
      "cell_type": "code",
      "source": [
        "X_train, X_test, y_train, y_test = train_test_split(\n",
        "    data, target, test_size=0.3, shuffle=False\n",
        ")"
      ],
      "metadata": {
        "id": "PwiVO2j4SNlT"
      },
      "execution_count": null,
      "outputs": []
    },
    {
      "cell_type": "code",
      "source": [
        "pipe = Pipeline([(\"Scaler\",StandardScaler()),(\"pca\",PCA(0.84)), ('svc',SVC(C=10,gamma='scale',kernel='rbf'))]).fit(X_train,y_train)"
      ],
      "metadata": {
        "id": "YDuWGosxJtET"
      },
      "execution_count": null,
      "outputs": []
    },
    {
      "cell_type": "code",
      "source": [
        "pipe.score(X_test,y_test)"
      ],
      "metadata": {
        "id": "mdRfWumuycYW",
        "colab": {
          "base_uri": "https://localhost:8080/"
        },
        "outputId": "eb37f854-45e6-48a5-e141-147ceba407b4"
      },
      "execution_count": null,
      "outputs": [
        {
          "output_type": "execute_result",
          "data": {
            "text/plain": [
              "0.9633333333333334"
            ]
          },
          "metadata": {},
          "execution_count": 36
        }
      ]
    },
    {
      "cell_type": "code",
      "source": [],
      "metadata": {
        "id": "zX29ZeL9TTxh"
      },
      "execution_count": null,
      "outputs": []
    }
  ],
  "metadata": {
    "colab": {
      "provenance": [],
      "collapsed_sections": []
    },
    "kernelspec": {
      "display_name": "Python 3",
      "name": "python3"
    },
    "language_info": {
      "name": "python"
    }
  },
  "nbformat": 4,
  "nbformat_minor": 0
}